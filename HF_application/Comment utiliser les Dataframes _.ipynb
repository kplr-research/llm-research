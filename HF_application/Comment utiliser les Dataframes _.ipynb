{
 "cells": [
  {
   "cell_type": "markdown",
   "id": "f60d6194",
   "metadata": {
    "id": "qib26A_zU3-E"
   },
   "source": [
    "## Comment découper et trancher un jeu de données?"
   ]
  },
  {
   "cell_type": "code",
   "execution_count": null,
   "id": "c9dec291",
   "metadata": {
    "id": "tY-i0ZU9Cm4N"
   },
   "outputs": [],
   "source": [
    "from datasets import load_dataset\n",
    "\n",
    "squad = load_dataset(\"squad\", split=\"train\")\n",
    "squad[0]"
   ]
  },
  {
   "cell_type": "code",
   "execution_count": null,
   "id": "b5ca0484",
   "metadata": {
    "id": "GTOBweh4Cm4N"
   },
   "outputs": [],
   "source": [
    "squad_shuffled = squad.shuffle(seed=666)\n",
    "squad_shuffled[0]"
   ]
  },
  {
   "cell_type": "code",
   "execution_count": null,
   "id": "ea088af7",
   "metadata": {
    "id": "N_yxnOPiCm4O"
   },
   "outputs": [],
   "source": [
    "dataset = squad.train_test_split(test_size=0.1)\n",
    "dataset"
   ]
  },
  {
   "cell_type": "code",
   "execution_count": null,
   "id": "fb9728b3",
   "metadata": {
    "id": "YY3RugK7Cm4O"
   },
   "outputs": [],
   "source": [
    "indices = [0, 10, 20, 40, 80]\n",
    "examples = squad.select(indices)\n",
    "examples"
   ]
  },
  {
   "cell_type": "code",
   "execution_count": null,
   "id": "fe21b537",
   "metadata": {
    "id": "c8Q9DxvUCm4O"
   },
   "outputs": [],
   "source": [
    "sample = squad.shuffle().select(range(5))\n",
    "sample"
   ]
  },
  {
   "cell_type": "code",
   "execution_count": null,
   "id": "d8df58af",
   "metadata": {
    "id": "5AX3xVveCm4P"
   },
   "outputs": [],
   "source": [
    "squad_filtered = squad.filter(lambda x : x[\"title\"].startswith(\"L\"))\n",
    "squad_filtered[0]"
   ]
  },
  {
   "cell_type": "code",
   "execution_count": null,
   "id": "1aee1daf",
   "metadata": {
    "id": "fsSDqKJxCm4P"
   },
   "outputs": [],
   "source": [
    "squad.rename_column(\"context\", \"passages\")"
   ]
  },
  {
   "cell_type": "code",
   "execution_count": null,
   "id": "e486e6e2",
   "metadata": {
    "id": "Rq6dTNANCm4P"
   },
   "outputs": [],
   "source": [
    "squad.remove_columns([\"id\", \"title\"])"
   ]
  },
  {
   "cell_type": "code",
   "execution_count": null,
   "id": "8f3685ee",
   "metadata": {
    "id": "QKcMZppaCm4P"
   },
   "outputs": [],
   "source": [
    "squad"
   ]
  },
  {
   "cell_type": "code",
   "execution_count": null,
   "id": "cf174816",
   "metadata": {
    "id": "iwjE2dpzCm4P"
   },
   "outputs": [],
   "source": [
    "squad.flatten()"
   ]
  },
  {
   "cell_type": "code",
   "execution_count": null,
   "id": "036ea01d",
   "metadata": {
    "id": "Dim30agTCm4P"
   },
   "outputs": [],
   "source": [
    "def lowercase_title(example):\n",
    "    return {\"title\": example[\"title\"].lower()}\n",
    "\n",
    "squad_lowercase = squad.map(lowercase_title)\n",
    "# Peek at random sample\n",
    "squad_lowercase.shuffle(seed=42)[\"title\"][:5]"
   ]
  },
  {
   "cell_type": "code",
   "execution_count": null,
   "id": "4dd4cbe0",
   "metadata": {
    "id": "ToNDD_imCm4P"
   },
   "outputs": [],
   "source": [
    "from transformers import AutoTokenizer\n",
    "\n",
    "tokenizer = AutoTokenizer.from_pretrained(\"distilbert-base-uncased\")\n",
    "\n",
    "def tokenize_title(example):\n",
    "    return tokenizer(example[\"title\"])\n",
    "\n",
    "squad.map(tokenize_title, batched=True, batch_size=500)"
   ]
  }
 ],
 "metadata": {},
 "nbformat": 4,
 "nbformat_minor": 5
}
