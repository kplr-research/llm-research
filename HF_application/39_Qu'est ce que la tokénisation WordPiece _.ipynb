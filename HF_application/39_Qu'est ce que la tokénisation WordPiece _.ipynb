{
 "cells": [
  {
   "cell_type": "markdown",
   "id": "ecea0c72",
   "metadata": {
    "id": "PMD05xwDYlbS"
   },
   "source": [
    "## Qu'est ce que la Tokenisation Byte Pair Encoding?"
   ]
  },
  {
   "cell_type": "code",
   "execution_count": null,
   "id": "d4fe36e8",
   "metadata": {
    "id": "941EYnvpYrk7"
   },
   "outputs": [],
   "source": []
  }
 ],
 "metadata": {},
 "nbformat": 4,
 "nbformat_minor": 5
}
