{
 "cells": [
  {
   "cell_type": "markdown",
   "id": "67c3ad0b",
   "metadata": {
    "id": "Exf2vQ_4Vboi"
   },
   "source": [
    "## Comment sauvegarder et recharger un jeu de données ?"
   ]
  },
  {
   "cell_type": "code",
   "execution_count": null,
   "id": "d0ab37ea",
   "metadata": {
    "id": "OQNLlaUoC645"
   },
   "outputs": [],
   "source": [
    "from datasets import load_dataset\n",
    "\n",
    "raw_datasets = load_dataset(\"allocine\")\n",
    "raw_datasets.cache_files"
   ]
  },
  {
   "cell_type": "code",
   "execution_count": null,
   "id": "498a30cb",
   "metadata": {
    "id": "9evbz0S_C645"
   },
   "outputs": [],
   "source": [
    "raw_datasets.save_to_disk(\"my-arrow-datasets\")"
   ]
  },
  {
   "cell_type": "code",
   "execution_count": null,
   "id": "43b3cfa7",
   "metadata": {
    "id": "y2cCCKiKC645"
   },
   "outputs": [],
   "source": [
    "from datasets import load_from_disk\n",
    "\n",
    "arrow_datasets_reloaded = load_from_disk(\"my-arrow-datasets\")\n",
    "arrow_datasets_reloaded"
   ]
  },
  {
   "cell_type": "code",
   "execution_count": null,
   "id": "64a38dc6",
   "metadata": {
    "id": "5uZsu056C646"
   },
   "outputs": [],
   "source": [
    "for split, dataset in raw_datasets.items():\n",
    "    dataset.to_csv(f\"my-dataset-{split}.csv\", index=None)"
   ]
  },
  {
   "cell_type": "code",
   "execution_count": null,
   "id": "ebcabf42",
   "metadata": {
    "id": "YVhAsEAPC646"
   },
   "outputs": [],
   "source": [
    "data_files = {\n",
    "    \"train\": \"my-dataset-train.csv\",\n",
    "    \"validation\": \"my-dataset-validation.csv\",\n",
    "    \"test\": \"my-dataset-test.csv\",\n",
    "}\n",
    "\n",
    "csv_datasets_reloaded = load_dataset(\"csv\", data_files=data_files)\n",
    "csv_datasets_reloaded"
   ]
  },
  {
   "cell_type": "code",
   "execution_count": null,
   "id": "e83c610d",
   "metadata": {
    "id": "iq-WsfoVC646"
   },
   "outputs": [],
   "source": [
    "# Save in JSON Lines format\n",
    "for split, dataset in raw_datasets.items():\n",
    "    dataset.to_json(f\"my-dataset-{split}.jsonl\")\n",
    "\n",
    "# Save in Parquet format\n",
    "for split, dataset in raw_datasets.items():\n",
    "    dataset.to_parquet(f\"my-dataset-{split}.parquet\")"
   ]
  },
  {
   "cell_type": "code",
   "execution_count": null,
   "id": "85b815c0",
   "metadata": {
    "id": "OLNj9u9YC647"
   },
   "outputs": [],
   "source": [
    "json_data_files = {\n",
    "    \"train\": \"my-dataset-train.jsonl\",\n",
    "    \"validation\": \"my-dataset-validation.jsonl\",\n",
    "    \"test\": \"my-dataset-test.jsonl\",\n",
    "}\n",
    "\n",
    "parquet_data_files = {\n",
    "    \"train\": \"my-dataset-train.parquet\",\n",
    "    \"validation\": \"my-dataset-validation.parquet\",\n",
    "    \"test\": \"my-dataset-test.parquet\",\n",
    "}\n",
    "\n",
    "# Reload with the `json` script\n",
    "json_datasets_reloaded = load_dataset(\"json\", data_files=json_data_files)\n",
    "# Reload with the `parquet` script\n",
    "parquet_datasets_reloaded = load_dataset(\"parquet\", data_files=parquet_data_files)"
   ]
  }
 ],
 "metadata": {},
 "nbformat": 4,
 "nbformat_minor": 5
}
