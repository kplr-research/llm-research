{
 "cells": [
  {
   "cell_type": "markdown",
   "id": "836ab308",
   "metadata": {
    "id": "rYUm-oWcUw0v"
   },
   "source": [
    "## Comment charger un jeu de données personnalisé?"
   ]
  },
  {
   "cell_type": "code",
   "execution_count": null,
   "id": "d6aa1490",
   "metadata": {
    "id": "8CwMpEZnCbDY"
   },
   "outputs": [],
   "source": [
    "!wget https://archive.ics.uci.edu/ml/machine-learning-databases/wine-quality/winequality-white.csv"
   ]
  },
  {
   "cell_type": "code",
   "execution_count": null,
   "id": "e961451b",
   "metadata": {
    "id": "P8ECSgxcCbDY"
   },
   "outputs": [],
   "source": [
    "from datasets import load_dataset\n",
    "\n",
    "local_csv_dataset = load_dataset(\"csv\", data_files=\"winequality-white.csv\", sep=\";\")\n",
    "local_csv_dataset[\"train\"]"
   ]
  },
  {
   "cell_type": "code",
   "execution_count": null,
   "id": "89e192fd",
   "metadata": {
    "id": "5-H2tKDFCbDZ"
   },
   "outputs": [],
   "source": [
    "# Load the dataset from the URL directly\n",
    "dataset_url = \"https://archive.ics.uci.edu/ml/machine-learning-databases/wine-quality/winequality-white.csv\"\n",
    "remote_csv_dataset = load_dataset(\"csv\", data_files=dataset_url, sep=\";\")\n",
    "remote_csv_dataset"
   ]
  },
  {
   "cell_type": "code",
   "execution_count": null,
   "id": "c2edce9b",
   "metadata": {
    "id": "WGvMBfsGCbDZ"
   },
   "outputs": [],
   "source": [
    "dataset_url = \"https://raw.githubusercontent.com/karpathy/char-rnn/master/data/tinyshakespeare/input.txt\"\n",
    "text_dataset = load_dataset(\"text\", data_files=dataset_url)\n",
    "text_dataset[\"train\"][:5]"
   ]
  },
  {
   "cell_type": "code",
   "execution_count": null,
   "id": "1316e191",
   "metadata": {
    "id": "0k8xz9LsCbDZ"
   },
   "outputs": [],
   "source": [
    "dataset_url = \"https://raw.githubusercontent.com/hirupert/sede/main/data/sede/train.jsonl\"\n",
    "json_lines_dataset = load_dataset(\"json\", data_files=dataset_url)\n",
    "json_lines_dataset[\"train\"][:2]"
   ]
  },
  {
   "cell_type": "code",
   "execution_count": null,
   "id": "8636c483",
   "metadata": {
    "id": "BnxgjvRACbDa"
   },
   "outputs": [],
   "source": [
    "dataset_url = \"https://rajpurkar.github.io/SQuAD-explorer/dataset/train-v2.0.json\"\n",
    "json_dataset = load_dataset(\"json\", data_files=dataset_url, field=\"data\")\n",
    "json_dataset"
   ]
  },
  {
   "cell_type": "code",
   "execution_count": null,
   "id": "123694a7",
   "metadata": {
    "id": "VBdxRjabCbDa"
   },
   "outputs": [],
   "source": [
    "url = \"https://rajpurkar.github.io/SQuAD-explorer/dataset/\"\n",
    "data_files = {\"train\": f\"{url}train-v2.0.json\", \"validation\": f\"{url}dev-v2.0.json\"}\n",
    "json_dataset = load_dataset(\"json\", data_files=data_files, field=\"data\")\n",
    "json_dataset"
   ]
  }
 ],
 "metadata": {},
 "nbformat": 4,
 "nbformat_minor": 5
}
