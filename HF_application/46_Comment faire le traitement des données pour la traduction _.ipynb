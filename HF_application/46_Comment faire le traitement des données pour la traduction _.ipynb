{
 "cells": [
  {
   "cell_type": "markdown",
   "id": "d7f42141",
   "metadata": {
    "id": "wb6GxaDnaMCk"
   },
   "source": [
    "## Qu'est-ce que l'adaptation au domaine ?"
   ]
  },
  {
   "cell_type": "code",
   "execution_count": null,
   "id": "3cb8ee4a",
   "metadata": {
    "id": "hDPO__KG_PGb"
   },
   "outputs": [],
   "source": [
    "from transformers import pipeline"
   ]
  },
  {
   "cell_type": "code",
   "execution_count": null,
   "id": "5c4c684b",
   "metadata": {
    "id": "NDLBfow8_H0g"
   },
   "outputs": [],
   "source": [
    "model_checkpoint = \"distilbert-base-uncased\"\n",
    "fill_masker = pipeline(\"fill-mask\", model=model_checkpoint)\n",
    "fill_masker(\"This is a great [MASK].\")"
   ]
  },
  {
   "cell_type": "code",
   "execution_count": null,
   "id": "096db571",
   "metadata": {
    "id": "zIXZfMY8_H0h"
   },
   "outputs": [],
   "source": [
    "model_checkpoint = \"huggingface-course/distilbert-base-uncased-finetuned-imdb\"\n",
    "fill_masker = pipeline(\"fill-mask\", model=model_checkpoint)\n",
    "fill_masker(\"This is a great [MASK].\")"
   ]
  },
  {
   "cell_type": "code",
   "execution_count": null,
   "id": "be16a1de",
   "metadata": {
    "id": "X__wvc5f_H0h"
   },
   "outputs": [],
   "source": [
    "model_checkpoint = \"Helsinki-NLP/opus-mt-en-fr\"\n",
    "translator = pipeline(\"translation\", model=model_checkpoint)\n",
    "translator(\"This plugin automatically translates emails.\")"
   ]
  },
  {
   "cell_type": "code",
   "execution_count": null,
   "id": "c30a2684",
   "metadata": {
    "id": "yBBAiIrX_H0h"
   },
   "outputs": [],
   "source": [
    "model_checkpoint = \"huggingface-course/marian-finetuned-kde4-en-to-fr\"\n",
    "translator = pipeline(\"translation\", model=model_checkpoint)\n",
    "translator(\"This plugin automatically translates emails.\")"
   ]
  }
 ],
 "metadata": {},
 "nbformat": 4,
 "nbformat_minor": 5
}
