{
 "cells": [
  {
   "cell_type": "markdown",
   "id": "1b78c2aa",
   "metadata": {
    "id": "K2epfC-AaAis"
   },
   "source": [
    "## Qu'est-ce que la perplexité ?"
   ]
  },
  {
   "cell_type": "code",
   "execution_count": null,
   "id": "bb8dfb5d",
   "metadata": {
    "id": "36MH1JSJ_BxR"
   },
   "outputs": [],
   "source": [
    "from transformers import AutoModelForCausalLM, AutoTokenizer\n",
    "import torch\n",
    "\n",
    "model = AutoModelForCausalLM.from_pretrained(\"gpt2\")\n",
    "tokenizer = AutoTokenizer.from_pretrained(\"gpt2\")\n",
    "\n",
    "inputs = tokenizer(\"Hugging Face is a startup based in New York City and Paris\",\n",
    "                   return_tensors=\"pt\")\n",
    "\n",
    "loss = model(input_ids=inputs[\"input_ids\"],\n",
    "             labels=inputs[\"input_ids\"]).loss\n",
    "\n",
    "ppl = torch.exp(loss)\n",
    "\n",
    "print(f\"Perplexity: {ppl.item():.2f}\")"
   ]
  }
 ],
 "metadata": {},
 "nbformat": 4,
 "nbformat_minor": 5
}
