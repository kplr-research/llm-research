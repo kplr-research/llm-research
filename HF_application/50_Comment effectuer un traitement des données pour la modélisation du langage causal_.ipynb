{
 "cells": [
  {
   "cell_type": "markdown",
   "id": "87ef71b5",
   "metadata": {
    "id": "3YQO7TQbannR"
   },
   "source": [
    "## Qu'est-ce que la métrique ROUGE ?"
   ]
  },
  {
   "cell_type": "code",
   "execution_count": null,
   "id": "6120ebfd",
   "metadata": {
    "id": "vBP0F6nRBekj"
   },
   "outputs": [],
   "source": [
    "! pip install nltk rouge_score"
   ]
  },
  {
   "cell_type": "code",
   "execution_count": null,
   "id": "87fd8604",
   "metadata": {
    "id": "EAjq5gXIBekj"
   },
   "outputs": [],
   "source": [
    "from datasets import load_metric\n",
    "\n",
    "rouge = load_metric(\"rouge\")\n",
    "predictions = [\"I really loved reading the Hunger Games\"]\n",
    "references = [\"I loved reading the Hunger Games\"]\n",
    "rouge.compute(predictions=predictions, references=references)"
   ]
  }
 ],
 "metadata": {},
 "nbformat": 4,
 "nbformat_minor": 5
}
