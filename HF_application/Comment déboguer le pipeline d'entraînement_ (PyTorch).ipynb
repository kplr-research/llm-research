{
 "cells": [
  {
   "cell_type": "markdown",
   "id": "7f7651b4",
   "metadata": {
    "id": "WXhf-kvDcozM"
   },
   "source": [
    "## Comment utiliser le déboggeur ?"
   ]
  },
  {
   "cell_type": "code",
   "execution_count": null,
   "id": "75b96de4",
   "metadata": {
    "id": "M-876-PtcuQB"
   },
   "outputs": [],
   "source": []
  }
 ],
 "metadata": {},
 "nbformat": 4,
 "nbformat_minor": 5
}
