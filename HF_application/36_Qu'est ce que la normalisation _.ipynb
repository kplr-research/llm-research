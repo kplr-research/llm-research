{
 "cells": [
  {
   "cell_type": "markdown",
   "id": "140a2235",
   "metadata": {
    "id": "ulWcPIO_XyRx"
   },
   "source": [
    "## Que se passe-t-il Dans le pipeline de réponse aux questions? (PyTorch)"
   ]
  },
  {
   "cell_type": "code",
   "execution_count": null,
   "id": "f5d02733",
   "metadata": {
    "id": "6eqn4jReX00t"
   },
   "outputs": [],
   "source": []
  }
 ],
 "metadata": {},
 "nbformat": 4,
 "nbformat_minor": 5
}
