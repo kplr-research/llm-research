{
 "cells": [
  {
   "cell_type": "markdown",
   "id": "759a81df",
   "metadata": {
    "id": "g1zIqvnyTCsP"
   },
   "source": [
    "## Qu'est ce qu'un objet modèle Keras ?"
   ]
  },
  {
   "cell_type": "code",
   "execution_count": null,
   "id": "67db0396",
   "metadata": {
    "id": "CXFflSDZTHXA"
   },
   "outputs": [],
   "source": []
  }
 ],
 "metadata": {},
 "nbformat": 4,
 "nbformat_minor": 5
}
