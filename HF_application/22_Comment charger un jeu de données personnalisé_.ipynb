{
 "cells": [
  {
   "cell_type": "markdown",
   "id": "8a5daa4d",
   "metadata": {
    "id": "bHSVKkIMUroB"
   },
   "source": [
    "## Comment utiliser L'API Push to Hub? (Tensorflow)"
   ]
  },
  {
   "cell_type": "code",
   "execution_count": null,
   "id": "caaccbcc",
   "metadata": {
    "id": "Z2GyTuZwUtiG"
   },
   "outputs": [],
   "source": []
  }
 ],
 "metadata": {},
 "nbformat": 4,
 "nbformat_minor": 5
}
