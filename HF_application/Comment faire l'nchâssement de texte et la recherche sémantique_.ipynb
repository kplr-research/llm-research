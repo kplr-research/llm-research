{
 "cells": [
  {
   "cell_type": "markdown",
   "id": "59fedeb2",
   "metadata": {
    "id": "_MjZHmfwWAY7"
   },
   "source": [
    "## Comment télécharger un jeu de données vers le Hub?"
   ]
  },
  {
   "cell_type": "code",
   "execution_count": null,
   "id": "51424537",
   "metadata": {
    "id": "9LArjO33WFQd"
   },
   "outputs": [],
   "source": [
    "# suite de directives ici"
   ]
  }
 ],
 "metadata": {},
 "nbformat": 4,
 "nbformat_minor": 5
}
