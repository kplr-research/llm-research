{
 "cells": [
  {
   "cell_type": "markdown",
   "id": "4e60050e",
   "metadata": {
    "id": "kt24QEnpZSqJ"
   },
   "source": [
    "## Qu'est ce que la tokénisation Unigram ?"
   ]
  },
  {
   "cell_type": "code",
   "execution_count": null,
   "id": "51236884",
   "metadata": {
    "id": "yuf-1GRyZNuQ"
   },
   "outputs": [],
   "source": []
  }
 ],
 "metadata": {},
 "nbformat": 4,
 "nbformat_minor": 5
}
