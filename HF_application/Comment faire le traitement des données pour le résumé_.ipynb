{
 "cells": [
  {
   "cell_type": "markdown",
   "id": "be580394",
   "metadata": {
    "id": "wGt9fIraacmQ"
   },
   "source": [
    "## Qu'est-ce que la métrique BLEU ?"
   ]
  },
  {
   "cell_type": "code",
   "execution_count": null,
   "id": "c699e49d",
   "metadata": {
    "id": "_QY-5JgeBMPv"
   },
   "outputs": [],
   "source": [
    "from datasets import load_metric\n",
    "\n",
    "bleu = load_metric(\"bleu\")\n",
    "predictions = [[\"I\", \"have\", \"thirty\", \"six\", \"years\"]]\n",
    "references = [\n",
    "    [[\"I\", \"am\", \"thirty\", \"six\", \"years\", \"old\"], [\"I\", \"am\", \"thirty\", \"six\"]]\n",
    "]\n",
    "bleu.compute(predictions=predictions, references=references)"
   ]
  },
  {
   "cell_type": "code",
   "execution_count": null,
   "id": "f5edab8f",
   "metadata": {
    "id": "kZrQsPqzBMPv"
   },
   "outputs": [],
   "source": [
    "predictions = [[\"I\", \"have\", \"thirty\", \"six\", \"years\"]]\n",
    "references = [\n",
    "    [[\"I\", \"am\", \"thirty\", \"six\", \"years\", \"old\"], [\"I\", \"am\", \"thirty\", \"six\"]]\n",
    "]\n",
    "bleu.compute(predictions=predictions, references=references)"
   ]
  },
  {
   "cell_type": "code",
   "execution_count": null,
   "id": "81c6da82",
   "metadata": {
    "id": "-rXQ2ghJBMPv"
   },
   "outputs": [],
   "source": [
    "predictions = [[\"I\", \"have\", \"thirty\", \"six\", \"years\"]]\n",
    "references = [\n",
    "    [[\"I\", \"am\", \"thirty\", \"six\", \"years\", \"old\"], [\"I\", \"am\", \"thirty\", \"six\"]]\n",
    "]\n",
    "bleu.compute(predictions=predictions, references=references)"
   ]
  },
  {
   "cell_type": "code",
   "execution_count": null,
   "id": "95ea9af0",
   "metadata": {
    "id": "ND3U1-NcBMPw"
   },
   "outputs": [],
   "source": [
    "! pip install sacrebleu"
   ]
  },
  {
   "cell_type": "code",
   "execution_count": null,
   "id": "24b577d6",
   "metadata": {
    "id": "-IG3rT5-BMPw"
   },
   "outputs": [],
   "source": [
    "sacrebleu = load_metric(\"sacrebleu\")\n",
    "# SacreBLEU operates on raw text, not tokens\n",
    "predictions = [\"I have thirty six years\"]\n",
    "references = [[\"I am thirty six years old\", \"I am thirty six\"]]\n",
    "sacrebleu.compute(predictions=predictions, references=references)"
   ]
  }
 ],
 "metadata": {},
 "nbformat": 4,
 "nbformat_minor": 5
}
