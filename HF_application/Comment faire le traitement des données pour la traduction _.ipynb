{
 "cells": [
  {
   "cell_type": "markdown",
   "id": "ab256241",
   "metadata": {
    "id": "wb6GxaDnaMCk"
   },
   "source": [
    "## Qu'est-ce que l'adaptation au domaine ?"
   ]
  },
  {
   "cell_type": "code",
   "execution_count": null,
   "id": "f8596137",
   "metadata": {
    "id": "hDPO__KG_PGb"
   },
   "outputs": [],
   "source": [
    "from transformers import pipeline"
   ]
  },
  {
   "cell_type": "code",
   "execution_count": null,
   "id": "6b01956d",
   "metadata": {
    "id": "NDLBfow8_H0g"
   },
   "outputs": [],
   "source": [
    "model_checkpoint = \"distilbert-base-uncased\"\n",
    "fill_masker = pipeline(\"fill-mask\", model=model_checkpoint)\n",
    "fill_masker(\"This is a great [MASK].\")"
   ]
  },
  {
   "cell_type": "code",
   "execution_count": null,
   "id": "075e8436",
   "metadata": {
    "id": "zIXZfMY8_H0h"
   },
   "outputs": [],
   "source": [
    "model_checkpoint = \"huggingface-course/distilbert-base-uncased-finetuned-imdb\"\n",
    "fill_masker = pipeline(\"fill-mask\", model=model_checkpoint)\n",
    "fill_masker(\"This is a great [MASK].\")"
   ]
  },
  {
   "cell_type": "code",
   "execution_count": null,
   "id": "24532d6f",
   "metadata": {
    "id": "X__wvc5f_H0h"
   },
   "outputs": [],
   "source": [
    "model_checkpoint = \"Helsinki-NLP/opus-mt-en-fr\"\n",
    "translator = pipeline(\"translation\", model=model_checkpoint)\n",
    "translator(\"This plugin automatically translates emails.\")"
   ]
  },
  {
   "cell_type": "code",
   "execution_count": null,
   "id": "00228641",
   "metadata": {
    "id": "yBBAiIrX_H0h"
   },
   "outputs": [],
   "source": [
    "model_checkpoint = \"huggingface-course/marian-finetuned-kde4-en-to-fr\"\n",
    "translator = pipeline(\"translation\", model=model_checkpoint)\n",
    "translator(\"This plugin automatically translates emails.\")"
   ]
  }
 ],
 "metadata": {},
 "nbformat": 4,
 "nbformat_minor": 5
}
