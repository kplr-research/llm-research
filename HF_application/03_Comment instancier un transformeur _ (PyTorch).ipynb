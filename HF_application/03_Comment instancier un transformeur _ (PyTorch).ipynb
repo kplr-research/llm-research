{
 "cells": [
  {
   "cell_type": "markdown",
   "id": "21e6705e",
   "metadata": {
    "id": "rBZCVFyiEtBv"
   },
   "source": [
    "## Que se passe-t-il dans la fonction pipeline ? (PyTorch)"
   ]
  },
  {
   "cell_type": "code",
   "execution_count": null,
   "id": "80c2f3d3",
   "metadata": {
    "colab": {
     "base_uri": "https://localhost:8080/"
    },
    "id": "T0XPp3z6NlMY",
    "outputId": "27f52e43-767a-4406-afae-23590145585a"
   },
   "outputs": [
    {
     "name": "stderr",
     "output_type": "stream",
     "text": [
      "No model was supplied, defaulted to distilbert-base-uncased-finetuned-sst-2-english and revision af0f99b (https://huggingface.co/distilbert-base-uncased-finetuned-sst-2-english).\n",
      "Using a pipeline without specifying a model name and revision in production is not recommended.\n"
     ]
    },
    {
     "data": {
      "text/plain": [
       "[{'label': 'POSITIVE', 'score': 0.9598048329353333},\n",
       " {'label': 'NEGATIVE', 'score': 0.9994558691978455}]"
      ]
     },
     "execution_count": 9,
     "metadata": {},
     "output_type": "execute_result"
    }
   ],
   "source": [
    "classifier = pipeline(\"sentiment-analysis\")\n",
    "\n",
    "classifier([\n",
    "\"I've been waiting for a HuggingFace course my whole life.\",\n",
    "\"I hate this so much!\"\n",
    "])"
   ]
  },
  {
   "cell_type": "code",
   "execution_count": null,
   "id": "d25a32b3",
   "metadata": {
    "colab": {
     "base_uri": "https://localhost:8080/",
     "height": 321,
     "referenced_widgets": [
      "1b01391534334ea7af77bf8e505b3b44",
      "93183d201d034d71bc881b6f9f759980",
      "ddb8a94bf91549e8ac8b2dbc565ea62f",
      "19983e60907f40768bc312368953edc0",
      "fc86f777fa424b21890eb2f6dd704da1",
      "45e05df20b1d4d8bb25a21b0ac3a1fef",
      "04f5ab4e557648a98151fa0e99a28f4f",
      "09eb8a8b5e804187ae0bf3b88ce62e8e",
      "3ef443e094214f32ae8370f03b18e1e3",
      "92a52b9dcde24d7fab43547afd62654e",
      "440836ea322e4d799486e3f8abcb0155",
      "786f6ad9a2144b9e93e38e17f33854d6",
      "6cdbbe4a225b4e788c551a2a9010a59e",
      "070ec54e79384712aad7cee696ae971c",
      "8c4c8970672d4883a27adf459a4f9455",
      "500b70d0dcdf4f219a773483f4592ad2",
      "d7b74ac8041049389494f3aab44e6d77",
      "d4e3df08ecba4098af43a3dadc3a53fa",
      "b33e974cea9f413e85d11369e582ea9d",
      "46d13f23d7924eb1a60cbc9a2dbd62c7",
      "30d48daf6a1b4ff89e53a6bc8daa93cd",
      "4ce4b0ce93634303bfbfe739913ca5f0",
      "37806037cc774255ac0e84afb950b567",
      "5a5fe6e91eb54f24b105b082ddb01cc5",
      "eb00ebd4c26c477a84225a393927b893",
      "41dd1f17652548628ac21f8e25cd8f0c",
      "02f43c478be24c84a5cab37b14297ac1",
      "8167e6e820f44c54a08aad08da1d70d2",
      "7d5a2edf5d8c45709cb4069aba27c57d",
      "5c4707661a044d509c92920a5dc4d76c",
      "f3433d470c2f4b389fdb25dfb64cf54e",
      "5c8f9097b4324cbfbdd10b4687f19108",
      "9a54827a3e8a4d49a65a5d61f745c460",
      "3ffb3cbb4c004c6f8f9d9598a6e5aa09",
      "3e2860e722f24741919257351ea79d5e",
      "933279a75b824bce9c2241b04fa4132e",
      "dc93ff6b8aa745a0b707eaf691d73f79",
      "8067ae9e3f584d85829c248b877baf71",
      "cfcec2b23dce438ea470f69c5a0ec77c",
      "64911e2e177447b98fcfc30a6fff3f71",
      "7e7726680a8c4f1eb54dbb065b95190e",
      "e8427748d00642a5ad8cea5883567cfd",
      "af9e1d876bc4418c814a2d780a2eadf8",
      "bfd702185ace41f9926bd3ec8d8aedf3",
      "bdd5a15e77ca44fdac0623aa816d19cd",
      "5feac01e5c94474f8d36d1a120028ed9",
      "2b7880fd5ba54356b9099d074f44d261",
      "f4a3d1277b254d219f420d64f556d008",
      "cea83c327ef449c39187cd5594567524",
      "6c52a4809d82476aa7c372b294cad0a7",
      "aafe5f4b08e644fabe1909fa6ab00f24",
      "5c0dc2cc7ab247808ec8b2e4add985d2",
      "4ef45a60ba064efba69b612e65d68295",
      "dae8e11cc3354d0081d581c35fecacc1",
      "e5271e31a71f40daa61e15b6bc22a971",
      "2e53d88a819f4ccc8b7a1b4a1d222a43",
      "f87805294fe04a0b9c04821d9c29b7ed",
      "2d6dba50a308407aa0d0879240f36fd5",
      "e86e96c104884883a812c5d4fedca7c4",
      "b81693862bf34d518c9e4f2f1f6e652a",
      "ba0a9093773544248358940a79a497e5",
      "c36a420e02f54c53a595e83896db2788",
      "2c7cb6239c2248778220135875766f03",
      "f078041bf30d4aeaafb144b2661f22c4",
      "ea49b4ed0d9345f78da341fcd2aee117",
      "e30ba61c16c74507b54e9acb19f4909c"
     ]
    },
    "id": "5qwBSelcNzE2",
    "outputId": "fa11a280-8785-4358-9db7-80f7a3897807"
   },
   "outputs": [
    {
     "name": "stderr",
     "output_type": "stream",
     "text": [
      "No model was supplied, defaulted to facebook/bart-large-mnli and revision c626438 (https://huggingface.co/facebook/bart-large-mnli).\n",
      "Using a pipeline without specifying a model name and revision in production is not recommended.\n"
     ]
    },
    {
     "data": {
      "application/vnd.jupyter.widget-view+json": {
       "model_id": "1b01391534334ea7af77bf8e505b3b44",
       "version_major": 2,
       "version_minor": 0
      },
      "text/plain": [
       "config.json:   0%|          | 0.00/1.15k [00:00<?, ?B/s]"
      ]
     },
     "metadata": {},
     "output_type": "display_data"
    },
    {
     "data": {
      "application/vnd.jupyter.widget-view+json": {
       "model_id": "786f6ad9a2144b9e93e38e17f33854d6",
       "version_major": 2,
       "version_minor": 0
      },
      "text/plain": [
       "model.safetensors:   0%|          | 0.00/1.63G [00:00<?, ?B/s]"
      ]
     },
     "metadata": {},
     "output_type": "display_data"
    },
    {
     "data": {
      "application/vnd.jupyter.widget-view+json": {
       "model_id": "37806037cc774255ac0e84afb950b567",
       "version_major": 2,
       "version_minor": 0
      },
      "text/plain": [
       "tokenizer_config.json:   0%|          | 0.00/26.0 [00:00<?, ?B/s]"
      ]
     },
     "metadata": {},
     "output_type": "display_data"
    },
    {
     "data": {
      "application/vnd.jupyter.widget-view+json": {
       "model_id": "3ffb3cbb4c004c6f8f9d9598a6e5aa09",
       "version_major": 2,
       "version_minor": 0
      },
      "text/plain": [
       "vocab.json:   0%|          | 0.00/899k [00:00<?, ?B/s]"
      ]
     },
     "metadata": {},
     "output_type": "display_data"
    },
    {
     "data": {
      "application/vnd.jupyter.widget-view+json": {
       "model_id": "bdd5a15e77ca44fdac0623aa816d19cd",
       "version_major": 2,
       "version_minor": 0
      },
      "text/plain": [
       "merges.txt:   0%|          | 0.00/456k [00:00<?, ?B/s]"
      ]
     },
     "metadata": {},
     "output_type": "display_data"
    },
    {
     "data": {
      "application/vnd.jupyter.widget-view+json": {
       "model_id": "2e53d88a819f4ccc8b7a1b4a1d222a43",
       "version_major": 2,
       "version_minor": 0
      },
      "text/plain": [
       "tokenizer.json:   0%|          | 0.00/1.36M [00:00<?, ?B/s]"
      ]
     },
     "metadata": {},
     "output_type": "display_data"
    },
    {
     "data": {
      "text/plain": [
       "{'sequence': 'This is a course about the Transformers Library',\n",
       " 'labels': ['education', 'business', 'politics'],\n",
       " 'scores': [0.8590312600135803, 0.09999384731054306, 0.040974874049425125]}"
      ]
     },
     "execution_count": 10,
     "metadata": {},
     "output_type": "execute_result"
    }
   ],
   "source": [
    "classifier = pipeline(\"zero-shot-classification\")\n",
    "classifier(\n",
    "\"This is a course about the Transformers Library\",\n",
    "candidate_labels=[\"education\", \"politics\", \"business\"],\n",
    ")"
   ]
  },
  {
   "cell_type": "markdown",
   "id": "fdb232e3",
   "metadata": {
    "id": "jiTzAEV_4Akl"
   },
   "source": [
    "`distilGPT-2` est une version réduite et distillée du modèle **GPT-2 **(Generative Pre-trained Transformer 2). **GPT-2**, développé par OpenAI, est célèbre pour sa capacité à générer des textes cohérents et contextuellement pertinents sur la base des données qu'il reçoit. Le modèle **DistilGPT-2** conserve une grande partie des capacités du **GPT-2** original, mais il est plus léger, ce qui le rend plus rapide et moins gourmand en ressources, bien qu'il soit potentiellement un peu moins puissant en termes de complexité et de nuance du texte généré.\n",
    "\n",
    "\n",
    "Lorsque vous utilisez ce pipeline pour la génération de texte, vous fournissez un prompt(un morceau de texte) et le modèle génère la suite de ce texte. La génération est basée sur les modèles et les styles que le modèle a appris au cours de son entraînement sur une gamme variée de sources de texte Internet. La sortie peut être contrôlée ou influencée en utilisant divers paramètres comme `max_length`, `num_return_sequences`, `temperature`, etc."
   ]
  },
  {
   "cell_type": "code",
   "execution_count": null,
   "id": "7b295ba8",
   "metadata": {
    "colab": {
     "base_uri": "https://localhost:8080/",
     "height": 301,
     "referenced_widgets": [
      "da87ca81be61482e93aff884572559ed",
      "aaa1df3cf84d4540823b5cc57afc1e3b",
      "a4329e9e4dd740d5a34e2daa8f48db41",
      "e8ef4a5071dd4dd7a91e77277eb097a1",
      "90a36c2796c547f6a86d6af50d2136f8",
      "b994300b67ec4a248f0b60ed1b23768d",
      "90becbc2c4794178b1b46ca17e078907",
      "be551c2908ca477a81dcc20e2fb2aa0c",
      "1ded90d77cb84ae7b5117adeb342bf9a",
      "e3527f1a4c54492fbf2fb5daf3d7df70",
      "a600dc02209c4c76b374babda61f4173",
      "f7df0c27a90e4b05aa0d8841c1eb08aa",
      "f6fd9ec5940e4a61880ee086ff3758d7",
      "cf217036740e4b9ca249ba3e6890270e",
      "5acf155e89cd4fa7bff6781914603488",
      "0c28cc6017134fbb9fa5e3518eb9a69f",
      "c986d76cd7ff45fb9e4e3f67002ca007",
      "d4d095baae044c019112da4dcb27f5ed",
      "1e2bec0c4c754cb28f48a94bea0885a0",
      "d60adb328dcf4be798b954be75b9b2e1",
      "5e5d1dd40b4747908d5e637ef30f9ade",
      "b9f2c88ff4f54efaaa6ae89fa1286c00",
      "b29eff0e4bb54a6bb70b7bfd48a04e6c",
      "1a7da40952e646c3a08c7185c1f1e5cb",
      "73563daf491140e78fa9492a7007bc7d",
      "569bae0de9164eabb9fcce10d31eeceb",
      "dddf2d2b5569423aa83fe567efcd924d",
      "1cb4535d42984dadbad06f377c917eff",
      "d24fa24fcf2a4a35bc3844c13a90d364",
      "1fd31c41383c44eca6bedc9c12020916",
      "5333eec6d65d40aea3114c89ba298986",
      "910999ba43dc47eaa8331d54ea0170bc",
      "51353948be684b8594f88105414194ef",
      "ca78ff5d9dc24271b05a3bb76b140ea4",
      "3179ef4222914147b5a99335d97fc4a1",
      "c3bf381b08394d97bad40cce63ce5036",
      "1f134c59513c4632b1025ee0cd78a25c",
      "648998b5555d4578aea998e2c622a708",
      "fd781da66da84525880ba4587dde91db",
      "3f9cbcf82e4144d8a99232a3334fbd00",
      "d79c890ad7d946b0a5d3e980ee6e10d9",
      "3e93546313da4e40aa4c43d51faa853d",
      "932224f860b249d7a4f45f07f6ffb21a",
      "d1ccda50552e4ba49ac3b154e96a1455",
      "57be6aace74046219deefa68c54e2408",
      "7c23e7309d764eb9a5a11a1dfa95782b",
      "fbbbb4b8ac99443db7fd44df2a513a31",
      "d6e0423e48994b6492338a1a07988da4",
      "3b1a80bb89f94ae486a60faf57c022e7",
      "02d65bc1718c4e2aa0d93a6fbb38192f",
      "e84c384c779e446dbdc22f316ee27a02",
      "44ca4ba643d644e281c3706dc6c1ffd9",
      "eac9601fb57c4ae1a1626ba834de3b53",
      "19321021018b4fdb932bac9519210f12",
      "5e53be8c570f41e58b6747d45cee3f42",
      "2647ff3afc254b5ba3616c9cc0ee8333",
      "0ad3b67fa8624bb4b0569dd077af2f73",
      "471a1ba514f04e9c955fe255ee43e5ea",
      "cf415730cb0c4de19ae80f6bc5f447b2",
      "2fc08018cd5d475cb875ebfc111babda",
      "52994149ed8e420e80eee9038e095903",
      "938b9668cf994ddeaca2f52d2dd5c1a7",
      "cbab3abc23d04c50ba1ae1bacf374dec",
      "b55ccb085a134250a8d71ed5563e5ad3",
      "acc000a92aed4e4bb73163fe2193f87f",
      "feb7574f35b7447a9d8b220770b15d4f"
     ]
    },
    "id": "li-kSsE0N9X-",
    "outputId": "66690a60-143d-45c5-cca8-1c1107c63e87"
   },
   "outputs": [
    {
     "data": {
      "application/vnd.jupyter.widget-view+json": {
       "model_id": "da87ca81be61482e93aff884572559ed",
       "version_major": 2,
       "version_minor": 0
      },
      "text/plain": [
       "config.json:   0%|          | 0.00/762 [00:00<?, ?B/s]"
      ]
     },
     "metadata": {},
     "output_type": "display_data"
    },
    {
     "data": {
      "application/vnd.jupyter.widget-view+json": {
       "model_id": "f7df0c27a90e4b05aa0d8841c1eb08aa",
       "version_major": 2,
       "version_minor": 0
      },
      "text/plain": [
       "model.safetensors:   0%|          | 0.00/353M [00:00<?, ?B/s]"
      ]
     },
     "metadata": {},
     "output_type": "display_data"
    },
    {
     "data": {
      "application/vnd.jupyter.widget-view+json": {
       "model_id": "b29eff0e4bb54a6bb70b7bfd48a04e6c",
       "version_major": 2,
       "version_minor": 0
      },
      "text/plain": [
       "generation_config.json:   0%|          | 0.00/124 [00:00<?, ?B/s]"
      ]
     },
     "metadata": {},
     "output_type": "display_data"
    },
    {
     "data": {
      "application/vnd.jupyter.widget-view+json": {
       "model_id": "ca78ff5d9dc24271b05a3bb76b140ea4",
       "version_major": 2,
       "version_minor": 0
      },
      "text/plain": [
       "vocab.json:   0%|          | 0.00/1.04M [00:00<?, ?B/s]"
      ]
     },
     "metadata": {},
     "output_type": "display_data"
    },
    {
     "data": {
      "application/vnd.jupyter.widget-view+json": {
       "model_id": "57be6aace74046219deefa68c54e2408",
       "version_major": 2,
       "version_minor": 0
      },
      "text/plain": [
       "merges.txt:   0%|          | 0.00/456k [00:00<?, ?B/s]"
      ]
     },
     "metadata": {},
     "output_type": "display_data"
    },
    {
     "data": {
      "application/vnd.jupyter.widget-view+json": {
       "model_id": "2647ff3afc254b5ba3616c9cc0ee8333",
       "version_major": 2,
       "version_minor": 0
      },
      "text/plain": [
       "tokenizer.json:   0%|          | 0.00/1.36M [00:00<?, ?B/s]"
      ]
     },
     "metadata": {},
     "output_type": "display_data"
    },
    {
     "name": "stderr",
     "output_type": "stream",
     "text": [
      "Setting `pad_token_id` to `eos_token_id`:50256 for open-end generation.\n"
     ]
    },
    {
     "data": {
      "text/plain": [
       "[{'generated_text': 'In this course, we will teach you how to use the power of this power and how to use it all.\"\\n\\n\\nYou should also check'},\n",
       " {'generated_text': 'In this course, we will teach you how to learn to avoid using the term \"dodge-buss\" and you will be asked to identify'}]"
      ]
     },
     "execution_count": 11,
     "metadata": {},
     "output_type": "execute_result"
    }
   ],
   "source": [
    "generator = pipeline(\"text-generation\", model=\"distilgpt2\")\n",
    "generator(\n",
    "\"In this course, we will teach you how to\",\n",
    "max_length=30, #nombre de tekens retournés\n",
    "num_return_sequences=2, #nombre de séquences (possibilités de continuations de texte retournés)\n",
    ")"
   ]
  },
  {
   "cell_type": "markdown",
   "id": "28477c9c",
   "metadata": {
    "id": "i2vPTesi7AjT"
   },
   "source": [
    "Pour le pipeline `\"fill-mask\"`, le modèle par défaut utilisé est généralement un modèle basé sur BERT, tel que `\"bert-base-uncased\"`\n",
    "\n",
    "Les modèles **BERT** sont particulièrement bien adaptés à cette tâche car ils sont entraînés à comprendre le contexte d'un blanc (jeton masqué) dans une phrase."
   ]
  },
  {
   "cell_type": "code",
   "execution_count": null,
   "id": "b7337cba",
   "metadata": {
    "colab": {
     "base_uri": "https://localhost:8080/",
     "height": 437,
     "referenced_widgets": [
      "5124133fbfb241a8906244e5f32f1e53",
      "ca38ab67506a4602a27412fc8a6a4ed3",
      "3c70b19a2b5945ec86d3c8155ac738b1",
      "5aa5b8053015435ebcbd4d27c8656060",
      "c6c33f9a58f94ec3bad05e43792a77d8",
      "79c63a35ea0d488180648118e45e5031",
      "27ab97eba9b74a7685d015d67f1e048d",
      "42167532c4f340e883d203505176a901",
      "49970eca4589459bb2b77ff81b55e5e3",
      "c6dd9438711941f9bcd4e7a364af7c2f",
      "2629ad890e744847b44e2869289ddce5",
      "1b948ae2f0bd47d7952f324f158e4329",
      "848da881643440548c8dbcbb2e1f6180",
      "4785cbef15b54e21ab97e7f835799ef3",
      "1b23fcbe99654e6ab66fbf0d46451690",
      "0d00de608b834ac3823780833ed9d124",
      "e447ab37c38b43c5b176cf5215eb900e",
      "0a95cbcf7e044306b9b251f7ae3bdf63",
      "75b2e90463094ebe95c4ef5801bed295",
      "0537a6f85d644250afe6ce5e841babc4",
      "22b1a2ad83a64040a1a3dd060cb7edb2",
      "c6c3ebea48ef43dc8e5116714b21c9de",
      "e2ffd864d4714106ba46dc4a00968525",
      "a3eec9a91f9a467ebcf54f3dbdeb0b53",
      "bef15aca1cc04228a561ef60a59b058e",
      "eb125485e2594264afc4bcf0a6f54055",
      "79a76acc78b94308aac3e109a2476047",
      "6c6746d82ce04bddb4f34d8e7a52f8ea",
      "3367860575a64f9f86019133b3e7309b",
      "41e0e5210ca24bf08a08adc76bdc537a",
      "39ee37a9d4f5419baab66bf17aad4cc1",
      "01a23c64cb374215bb6d3f8d3cff45df",
      "21db81d9ec4546deac85ce9535ac56da",
      "7e0cd7a96e6747cea1d33f0874de4132",
      "2deb72b8afe7406ab67487f276355139",
      "3c12c6b44d44430db1e01655db44c501",
      "e5a3016776914957b6e1eb7e9329392b",
      "330205765bc14255b89eb1a98b264997",
      "980eb3a709ff469991c5653613a76f29",
      "223cd59260874d3caf966bfe462482e3",
      "bd434ffa5c2b44b1adcbd08fe5a781ba",
      "bbcdcf08ac7744959cf0d6c613289b00",
      "3ac69cb19d4b419f85b9466de5f08a5f",
      "46147d9738e2438cae678ec337461952",
      "3aaa0f9169a945749916b5f436179b31",
      "fa91f7747e964c82b89ec0ceb9750b81",
      "69b841854516482180f0bddd245d1b16",
      "c52947984a1741898d52dc7d56f1b6fa",
      "ae0c1eb771ae44edb128178e5189d888",
      "1d20053c997747a28746816e17f0d278",
      "beebfc8ea19a4093b4ad44989f8d45b0",
      "439db42af6724b44bfdb844cf00daa4e",
      "74289a0d63314abe86c129e40bb20413",
      "0c088c25ded64c958dffedb82caeac10",
      "06e95f3e6ecb43adb9d47f99e4173414"
     ]
    },
    "id": "xlxLCAQkOJNw",
    "outputId": "bc2ce542-adea-4771-801e-1a7843540f75"
   },
   "outputs": [
    {
     "name": "stderr",
     "output_type": "stream",
     "text": [
      "No model was supplied, defaulted to distilroberta-base and revision ec58a5b (https://huggingface.co/distilroberta-base).\n",
      "Using a pipeline without specifying a model name and revision in production is not recommended.\n"
     ]
    },
    {
     "data": {
      "application/vnd.jupyter.widget-view+json": {
       "model_id": "5124133fbfb241a8906244e5f32f1e53",
       "version_major": 2,
       "version_minor": 0
      },
      "text/plain": [
       "config.json:   0%|          | 0.00/480 [00:00<?, ?B/s]"
      ]
     },
     "metadata": {},
     "output_type": "display_data"
    },
    {
     "data": {
      "application/vnd.jupyter.widget-view+json": {
       "model_id": "1b948ae2f0bd47d7952f324f158e4329",
       "version_major": 2,
       "version_minor": 0
      },
      "text/plain": [
       "model.safetensors:   0%|          | 0.00/331M [00:00<?, ?B/s]"
      ]
     },
     "metadata": {},
     "output_type": "display_data"
    },
    {
     "name": "stderr",
     "output_type": "stream",
     "text": [
      "Some weights of the model checkpoint at distilroberta-base were not used when initializing RobertaForMaskedLM: ['roberta.pooler.dense.weight', 'roberta.pooler.dense.bias']\n",
      "- This IS expected if you are initializing RobertaForMaskedLM from the checkpoint of a model trained on another task or with another architecture (e.g. initializing a BertForSequenceClassification model from a BertForPreTraining model).\n",
      "- This IS NOT expected if you are initializing RobertaForMaskedLM from the checkpoint of a model that you expect to be exactly identical (initializing a BertForSequenceClassification model from a BertForSequenceClassification model).\n"
     ]
    },
    {
     "data": {
      "application/vnd.jupyter.widget-view+json": {
       "model_id": "e2ffd864d4714106ba46dc4a00968525",
       "version_major": 2,
       "version_minor": 0
      },
      "text/plain": [
       "vocab.json:   0%|          | 0.00/899k [00:00<?, ?B/s]"
      ]
     },
     "metadata": {},
     "output_type": "display_data"
    },
    {
     "data": {
      "application/vnd.jupyter.widget-view+json": {
       "model_id": "7e0cd7a96e6747cea1d33f0874de4132",
       "version_major": 2,
       "version_minor": 0
      },
      "text/plain": [
       "merges.txt:   0%|          | 0.00/456k [00:00<?, ?B/s]"
      ]
     },
     "metadata": {},
     "output_type": "display_data"
    },
    {
     "data": {
      "application/vnd.jupyter.widget-view+json": {
       "model_id": "3aaa0f9169a945749916b5f436179b31",
       "version_major": 2,
       "version_minor": 0
      },
      "text/plain": [
       "tokenizer.json:   0%|          | 0.00/1.36M [00:00<?, ?B/s]"
      ]
     },
     "metadata": {},
     "output_type": "display_data"
    },
    {
     "data": {
      "text/plain": [
       "[{'score': 0.19619806110858917,\n",
       "  'token': 30412,\n",
       "  'token_str': ' mathematical',\n",
       "  'sequence': 'This course will teach you all about mathematical models.'},\n",
       " {'score': 0.04052723944187164,\n",
       "  'token': 38163,\n",
       "  'token_str': ' computational',\n",
       "  'sequence': 'This course will teach you all about computational models.'}]"
      ]
     },
     "execution_count": 12,
     "metadata": {},
     "output_type": "execute_result"
    }
   ],
   "source": [
    "unmasker = pipeline(\"fill-mask\")\n",
    "unmasker(\"This course will teach you all about <mask> models.\", top_k=2) # nombre de top prédictions"
   ]
  },
  {
   "cell_type": "markdown",
   "id": "a507d817",
   "metadata": {
    "id": "ZAb8T2ig8oUL"
   },
   "source": [
    "Dans le code suivant on effectue une tâche de reconnaissance d'entités. Avec le paramètre `grouped_entities=True`, \"Hugging Face\" sera correctement regroupé et identifié comme une seule entité, au lieu d'être divisé en \"Hugging\" et \"Face\"."
   ]
  },
  {
   "cell_type": "code",
   "execution_count": null,
   "id": "1da7ee91",
   "metadata": {
    "colab": {
     "base_uri": "https://localhost:8080/",
     "height": 571,
     "referenced_widgets": [
      "7e986ce2d3374017ad2ea32a66544b33",
      "fc4717137679446bad2f1f7b695f77f4",
      "8d663dd89d764754b7b341b0077bcbad",
      "b5457497817f468784c0463f5f49988d",
      "2a095b2593914841a8d87570d451e3b7",
      "eb168235326d44489cc8fbbb19a00143",
      "41b9c6b3ae5843d09ba6c61bdc07e4c9",
      "5738f058056d46a380771f9e7fe1b911",
      "825ea63626064e8eab000e79a2960550",
      "f2cc17d9bb05439c80633b1f5e6d5072",
      "a2f506c9e89b4ef9903a37e07d7f8970",
      "80222554cfd0468bb6658bfbfc7a9ce3",
      "41780facdacc49d482bab34f4d6f3aec",
      "fcc48dbbed47484cbebe2f47eec1a236",
      "0b0bc3ee71be418abeccbcbe73905d53",
      "3a083979b3e144338812f99c14470866",
      "41531bd4c0d9473c8fe1ebaec42c4cd0",
      "17397aa3ff9b4102850a8ed9d01969e7",
      "d6de6b23299941e6a7509d7d024ac81c",
      "e9f7ebf855b24a85b04835796b23b7c3",
      "49c64d37eeec4321998d07fa964820ac",
      "847715ba48f948f58548470e39e21b4a",
      "b42c8350f8654ffab8b028a543529c9a",
      "58c2c5d05105458792b5766361aba766",
      "c9d9f7b11fc641699f64c91405a92988",
      "89bcc6372b714da9b8ddda2eeec07b2f",
      "0cd07aef31814230b3899e9e6bc54b72",
      "ea8d2e14a2b248418c2f815fef62d5a3",
      "342e13f44a7c43de8794e02a4220fc49",
      "49050f7052c447a5a03f9c00f3dd8ce0",
      "26435a920d404e5193402d82f7b8df05",
      "5d9a79966d0942c6ae2305eafa041f99",
      "0d090154a4cc4581a2db3a9269fee7ef",
      "1f83996117f84476951b54eb4d36d525",
      "311f8a65223043919ec5fe55e965ca52",
      "91e2202464ff422fbc358a3f02d4cdcd",
      "d927d9e3ee144315b4db2d2c8b1eee77",
      "3ffbdd1896ff404fba5e1da70a512869",
      "951501a3a1c4438289730902feb0cf16",
      "2d80a2d10087468984adf35e368a4af3",
      "db7377c243f345e4bbf2fd79836516b6",
      "d70c2e89b6bb47d591af080298076073",
      "4120c2b402d44a74a05b524186f73b23",
      "62b4aa8afb914d988ade27b64062576d"
     ]
    },
    "id": "EXYQ4OleOZ7O",
    "outputId": "1dbadb39-f72d-42f8-d8f9-f8757d4f5c09"
   },
   "outputs": [
    {
     "name": "stderr",
     "output_type": "stream",
     "text": [
      "No model was supplied, defaulted to dbmdz/bert-large-cased-finetuned-conll03-english and revision f2482bf (https://huggingface.co/dbmdz/bert-large-cased-finetuned-conll03-english).\n",
      "Using a pipeline without specifying a model name and revision in production is not recommended.\n"
     ]
    },
    {
     "data": {
      "application/vnd.jupyter.widget-view+json": {
       "model_id": "7e986ce2d3374017ad2ea32a66544b33",
       "version_major": 2,
       "version_minor": 0
      },
      "text/plain": [
       "config.json:   0%|          | 0.00/998 [00:00<?, ?B/s]"
      ]
     },
     "metadata": {},
     "output_type": "display_data"
    },
    {
     "data": {
      "application/vnd.jupyter.widget-view+json": {
       "model_id": "80222554cfd0468bb6658bfbfc7a9ce3",
       "version_major": 2,
       "version_minor": 0
      },
      "text/plain": [
       "model.safetensors:   0%|          | 0.00/1.33G [00:00<?, ?B/s]"
      ]
     },
     "metadata": {},
     "output_type": "display_data"
    },
    {
     "name": "stderr",
     "output_type": "stream",
     "text": [
      "Some weights of the model checkpoint at dbmdz/bert-large-cased-finetuned-conll03-english were not used when initializing BertForTokenClassification: ['bert.pooler.dense.bias', 'bert.pooler.dense.weight']\n",
      "- This IS expected if you are initializing BertForTokenClassification from the checkpoint of a model trained on another task or with another architecture (e.g. initializing a BertForSequenceClassification model from a BertForPreTraining model).\n",
      "- This IS NOT expected if you are initializing BertForTokenClassification from the checkpoint of a model that you expect to be exactly identical (initializing a BertForSequenceClassification model from a BertForSequenceClassification model).\n"
     ]
    },
    {
     "data": {
      "application/vnd.jupyter.widget-view+json": {
       "model_id": "b42c8350f8654ffab8b028a543529c9a",
       "version_major": 2,
       "version_minor": 0
      },
      "text/plain": [
       "tokenizer_config.json:   0%|          | 0.00/60.0 [00:00<?, ?B/s]"
      ]
     },
     "metadata": {},
     "output_type": "display_data"
    },
    {
     "data": {
      "application/vnd.jupyter.widget-view+json": {
       "model_id": "1f83996117f84476951b54eb4d36d525",
       "version_major": 2,
       "version_minor": 0
      },
      "text/plain": [
       "vocab.txt:   0%|          | 0.00/213k [00:00<?, ?B/s]"
      ]
     },
     "metadata": {},
     "output_type": "display_data"
    },
    {
     "name": "stderr",
     "output_type": "stream",
     "text": [
      "/usr/local/lib/python3.10/dist-packages/transformers/pipelines/token_classification.py:169: UserWarning: `grouped_entities` is deprecated and will be removed in version v5.0.0, defaulted to `aggregation_strategy=\"simple\"` instead.\n",
      "  warnings.warn(\n"
     ]
    },
    {
     "data": {
      "text/plain": [
       "[{'entity_group': 'PER',\n",
       "  'score': 0.9981694,\n",
       "  'word': 'Sylvain',\n",
       "  'start': 11,\n",
       "  'end': 18},\n",
       " {'entity_group': 'ORG',\n",
       "  'score': 0.9796019,\n",
       "  'word': 'Hugging Face',\n",
       "  'start': 33,\n",
       "  'end': 45},\n",
       " {'entity_group': 'LOC',\n",
       "  'score': 0.9932106,\n",
       "  'word': 'Brooklyn',\n",
       "  'start': 49,\n",
       "  'end': 57}]"
      ]
     },
     "execution_count": 13,
     "metadata": {},
     "output_type": "execute_result"
    }
   ],
   "source": [
    "ner = pipeline(\"ner\", grouped_entities=True) #ner = name entity recognition, cette tâche est en général basée sur le transformer BERT\n",
    "ner(\"My name is Sylvain and I work at Hugging Face in Brooklyn.\")"
   ]
  },
  {
   "cell_type": "code",
   "execution_count": null,
   "id": "1a96efc6",
   "metadata": {
    "colab": {
     "base_uri": "https://localhost:8080/",
     "height": 252,
     "referenced_widgets": [
      "6b39cce7c31c4b99b90a59cc912aa983",
      "00391558218d4712a479775018986031",
      "de9fa17827d547f08ac852b743bfcfb5",
      "44c4d82bb07c44db94ed20cf0b017d79",
      "4ad878ac4db943cd83c784d865e72907",
      "6e0fa4982e834e58bdfdd243f620c2c2",
      "62e2da3541b842a7b8173544e3af3924",
      "6d421b522daa4833b8cde29c62f50a2b",
      "937f7a33a9d94242b0f31a9484c9cb7c",
      "637fc3bbd1f24244a08562a27d9a6c3b",
      "0e77b3f18ca54fdbae8ab04c69f6d843",
      "a64ab56198d846f3bf7cce57c04d6280",
      "8922299df3e54a4285e538ea74b61cca",
      "332113cc89b44b6986f338e2552417af",
      "851ff1775c2644bfa7024b3a3a8166c4",
      "d9b5bda3579645a786756f0f4a2bd782",
      "263873e5bfc145fda75e5bed2511ab30",
      "6ce9249c7bac412d9bae1e96e82aef1e",
      "3069d417a5c34bb08e34ad9d3ac67a0f",
      "38c051b7b89a4339ad57e65e3d06b642",
      "96e8bb52430441748c0fcb17372bce01",
      "ea9279c22beb4b7888b7168bec219fb7",
      "87d205aff9764cb28c032d9170a3266f",
      "f236df025a8740ccb77d321b2f77fe00",
      "8d14c10ec95043ccb0e6a9b5e23d4a6c",
      "1240194870a642679539cf38ed732681",
      "83c51a0b69d04fa98e7fd0d3d7ad6cf4",
      "e7c0c485569d4a5e8c58f28fb914c122",
      "2209a6ed9a4046e58e63649f2fb5bacc",
      "d2a84966cc9e497aa8402688b8e33e28",
      "bdfed60b063d492d9f105a90f929e13d",
      "b38e7d20ef60429cb2bcda39a0a4b806",
      "31ec342176e5485ba8c1c0218c66c76a",
      "64b3a2efdebf40378999d97130132076",
      "332aef330d864fd48b6488d168b66ff8",
      "07fea44d317b491cb2afbef31082788c",
      "2d3782a95d904d32a754744ecceaff0d",
      "378195cb698745159c2eb0eb0fd2c4d6",
      "f002b7b2166a4d15bd841df87753c8cc",
      "9ec6ffc2de524d27a8cccea1efff2ed7",
      "a95f3a0353914feebe0243839459bc16",
      "5f617dc1f69b451c9bd618f63b5b0375",
      "3c3f5bd3c3db4800ab8e81df8e89edd7",
      "57bc6afc2897430bb2d1436a036b0e9d",
      "17bc6e1c099e49e8933d24336db8410c",
      "cd7fc032493e4dd49899e74e00aa307e",
      "a9603337e866461f8f469a7cfcb7204c",
      "7194a00f91f045bea8f65204c401bd40",
      "7d3ce5964d9244d9b3b4fac0c6c30bca",
      "cccba8834cc542b4bd481a9648c23f94",
      "3864ae4dab90429d8c87ba7fc51b7a5a",
      "abc1302bf5544366afc5c97bf55d9f2d",
      "995d938e4ea2429f8807fcdc1a505705",
      "3721d45014dc45f69232f6cfccff42cc",
      "34dcad01ab5d443393b5ce345ecd82f2"
     ]
    },
    "id": "U4gKavlqOsId",
    "outputId": "6dd8b222-9bec-4933-dc61-88c11cd158fa"
   },
   "outputs": [
    {
     "name": "stderr",
     "output_type": "stream",
     "text": [
      "No model was supplied, defaulted to distilbert-base-cased-distilled-squad and revision 626af31 (https://huggingface.co/distilbert-base-cased-distilled-squad).\n",
      "Using a pipeline without specifying a model name and revision in production is not recommended.\n"
     ]
    },
    {
     "data": {
      "application/vnd.jupyter.widget-view+json": {
       "model_id": "6b39cce7c31c4b99b90a59cc912aa983",
       "version_major": 2,
       "version_minor": 0
      },
      "text/plain": [
       "config.json:   0%|          | 0.00/473 [00:00<?, ?B/s]"
      ]
     },
     "metadata": {},
     "output_type": "display_data"
    },
    {
     "data": {
      "application/vnd.jupyter.widget-view+json": {
       "model_id": "a64ab56198d846f3bf7cce57c04d6280",
       "version_major": 2,
       "version_minor": 0
      },
      "text/plain": [
       "model.safetensors:   0%|          | 0.00/261M [00:00<?, ?B/s]"
      ]
     },
     "metadata": {},
     "output_type": "display_data"
    },
    {
     "data": {
      "application/vnd.jupyter.widget-view+json": {
       "model_id": "87d205aff9764cb28c032d9170a3266f",
       "version_major": 2,
       "version_minor": 0
      },
      "text/plain": [
       "tokenizer_config.json:   0%|          | 0.00/29.0 [00:00<?, ?B/s]"
      ]
     },
     "metadata": {},
     "output_type": "display_data"
    },
    {
     "data": {
      "application/vnd.jupyter.widget-view+json": {
       "model_id": "64b3a2efdebf40378999d97130132076",
       "version_major": 2,
       "version_minor": 0
      },
      "text/plain": [
       "vocab.txt:   0%|          | 0.00/213k [00:00<?, ?B/s]"
      ]
     },
     "metadata": {},
     "output_type": "display_data"
    },
    {
     "data": {
      "application/vnd.jupyter.widget-view+json": {
       "model_id": "17bc6e1c099e49e8933d24336db8410c",
       "version_major": 2,
       "version_minor": 0
      },
      "text/plain": [
       "tokenizer.json:   0%|          | 0.00/436k [00:00<?, ?B/s]"
      ]
     },
     "metadata": {},
     "output_type": "display_data"
    },
    {
     "data": {
      "text/plain": [
       "{'score': 0.6949767470359802, 'start': 33, 'end': 45, 'answer': 'Hugging Face'}"
      ]
     },
     "execution_count": 14,
     "metadata": {},
     "output_type": "execute_result"
    }
   ],
   "source": [
    "question_answerer = pipeline(\"question-answering\")\n",
    "question_answerer(\n",
    "    question=\"Where do I work?\",\n",
    "    context=\"My name is Sylvain and I work at Hugging Face in Brooklyn\"\n",
    "    )"
   ]
  },
  {
   "cell_type": "code",
   "execution_count": null,
   "id": "2e15e4c0",
   "metadata": {
    "colab": {
     "base_uri": "https://localhost:8080/",
     "height": 289,
     "referenced_widgets": [
      "2c9d088c0dca4f758a21bdcc6e88c87f",
      "e72e18ca04d445498da3d08a10590555",
      "65c2451559eb4072b0022256f491863d",
      "c07d11a46ee1493582dafe9b8eec0055",
      "6ebe012685d0475eb575c09f4273d991",
      "efa4c20e278644acb5b2b6f210455921",
      "fb5260544a094c31b2e88c83b7d45499",
      "7ff02f4532a8432989a4da40ae706839",
      "4a79d0178c88413f868658537d9b2423",
      "66e0f89adeb54d48a920c086988fcd13",
      "1e70886f78f44a18ae9032fa1ebea735",
      "fd18f765782245eaaa373ac2dfc86f51",
      "56569ebf8e754986aba9ea8f239aec34",
      "395527a2118347babbbf3382f0df58fb",
      "515a01d030804a08983ce3d54c3f0968",
      "ed8a31de5af142d980b83d996c15e7c0",
      "3746fb6b852844c7b7b297d5c6e08d11",
      "25ca7936889d4baeb996f333e9132d03",
      "1abbc69bbc2f48a89ba6f571a42a4ec9",
      "420157a33ff04d13838b65e616d6d30c",
      "0aaf3fb958024b1fa60071362d6fcc9d",
      "9a539a1850cc4526b465bcbf5567025a",
      "e4b029f8a059432b97ab84af4e3f48a0",
      "113c02c935154106a753d316f2de81bb",
      "c354f3f8e6e24c75aca9337b3d3e95ad",
      "95b95cd6267e4d8e96e5f2d7219594d8",
      "db023c9e2d7b403cb268270803d08431",
      "caf475e38dc64aed86a5eec5e5124e95",
      "782e9b7088ee4c2db2f9cea637a7144c",
      "54d3d8cc31f3490ea17eb7212bb5fba6",
      "2f05b2abc7084465854adb8b9cc1972d",
      "ba10d25920c14c75929c35bbc4fdd40c",
      "0cba95a6c11042c0a1d7c80a8f3842b2",
      "7f8450f4e7124f598f5326e5217e33cd",
      "ec8d0b15e2b8437d9b3052b5f902ba8b",
      "b6d93477dbb24c258868c7e0fc9ed266",
      "6f0c121910b646c6b83f014417671949",
      "d28e36f1307042249b1b704b7b26c430",
      "42e18976f5ed4a12923bc11150714777",
      "9c448169761b40759b660bde280b8158",
      "05bca33ce4d24f5a978c64e3144dfe00",
      "b0b4cbf9532049579732d82dbca22146",
      "857dbd6f51224880afcb19967746d1b8",
      "f2d612ab3c2048a1962abbba3ae4bf0f",
      "4e4e5e80e89d4d24a7899b018c55d2c5",
      "d6adb946cbed428ea4b7709b9bf33aff",
      "800d63af11a34db0b41e408ab5045fe8",
      "b0325b725bb74d97ad8fda1c6763fa30",
      "985d38b6aca74899a9b1c9980ffa1902",
      "817a684a59304f14a5f17f0a5a0e3ad5",
      "83a2963af7d74f78862813512dcb0ab5",
      "35477ccd7a8247c2af1416764461abc1",
      "ce1bc0b42f15495ba90e76664b0753c1",
      "3c60256a21144c89a907a12edb87a54f",
      "f2c00d37bc784541816df92fd3fb3b83"
     ]
    },
    "id": "EvSN3Uh0PFKW",
    "outputId": "85028379-8ec7-4b0b-b59d-4de33c58e19e"
   },
   "outputs": [
    {
     "name": "stderr",
     "output_type": "stream",
     "text": [
      "No model was supplied, defaulted to sshleifer/distilbart-cnn-12-6 and revision a4f8f3e (https://huggingface.co/sshleifer/distilbart-cnn-12-6).\n",
      "Using a pipeline without specifying a model name and revision in production is not recommended.\n"
     ]
    },
    {
     "data": {
      "application/vnd.jupyter.widget-view+json": {
       "model_id": "2c9d088c0dca4f758a21bdcc6e88c87f",
       "version_major": 2,
       "version_minor": 0
      },
      "text/plain": [
       "config.json:   0%|          | 0.00/1.80k [00:00<?, ?B/s]"
      ]
     },
     "metadata": {},
     "output_type": "display_data"
    },
    {
     "data": {
      "application/vnd.jupyter.widget-view+json": {
       "model_id": "fd18f765782245eaaa373ac2dfc86f51",
       "version_major": 2,
       "version_minor": 0
      },
      "text/plain": [
       "pytorch_model.bin:   0%|          | 0.00/1.22G [00:00<?, ?B/s]"
      ]
     },
     "metadata": {},
     "output_type": "display_data"
    },
    {
     "data": {
      "application/vnd.jupyter.widget-view+json": {
       "model_id": "e4b029f8a059432b97ab84af4e3f48a0",
       "version_major": 2,
       "version_minor": 0
      },
      "text/plain": [
       "tokenizer_config.json:   0%|          | 0.00/26.0 [00:00<?, ?B/s]"
      ]
     },
     "metadata": {},
     "output_type": "display_data"
    },
    {
     "data": {
      "application/vnd.jupyter.widget-view+json": {
       "model_id": "7f8450f4e7124f598f5326e5217e33cd",
       "version_major": 2,
       "version_minor": 0
      },
      "text/plain": [
       "vocab.json:   0%|          | 0.00/899k [00:00<?, ?B/s]"
      ]
     },
     "metadata": {},
     "output_type": "display_data"
    },
    {
     "data": {
      "application/vnd.jupyter.widget-view+json": {
       "model_id": "4e4e5e80e89d4d24a7899b018c55d2c5",
       "version_major": 2,
       "version_minor": 0
      },
      "text/plain": [
       "merges.txt:   0%|          | 0.00/456k [00:00<?, ?B/s]"
      ]
     },
     "metadata": {},
     "output_type": "display_data"
    },
    {
     "data": {
      "text/plain": [
       "[{'summary_text': ' China and India graduate six and eight times as many traditional engineers as the U.S. as does the United States . Academics in America are increasingly focused on engineering science, infrastructure, and related issues . The number of engineering graduates in America has declined in recent years, while the number of well-educated engineers is declining .'}]"
      ]
     },
     "execution_count": 15,
     "metadata": {},
     "output_type": "execute_result"
    }
   ],
   "source": [
    "sumarizer = pipeline(\"summarization\")\n",
    "\n",
    "sumarizer(\"\"\"\n",
    "America has changed dramatically during recent years. Not only has the nusber of\n",
    "graduates in traditional engineering disciplines such as mechanical, civil,\n",
    "electrical, chemical, and aeronautical engineering declined, but in most of\n",
    "the premier American universities engineering curricula now concentrate on\n",
    "and encourage largely the study of engineering science. As a result, there\n",
    "are declining offerings in engineering subjects dealing with infrastructure,\n",
    "‘the environment, and related issues, and greater concentration on high\n",
    "‘technology subjects, Largely supporting increasingly complex scientific\n",
    "developments. while the latter is important, it should not be at the expense\n",
    "of more traditional engineering.\n",
    "\n",
    "Rapidly developing economies such as China and India, as well as other\n",
    "industrial countries in Europe and Asia, continue to encourage and advance\n",
    "the teaching of engineering. Both China and India, respectively, graduate\n",
    "six and eight times as many traditional engineers as does the United States.\n",
    "Other industrial countries at minimum maintain their output, while Anerica\n",
    "suffers an increasingly serious decline in the number of engineering graduates\n",
    "and a lack of well-educated engineers.\n",
    "\n",
    "\"\"\")"
   ]
  },
  {
   "cell_type": "code",
   "execution_count": null,
   "id": "95f81739",
   "metadata": {
    "colab": {
     "base_uri": "https://localhost:8080/"
    },
    "id": "m9nUJuxNQnO8",
    "outputId": "765d5f8f-4f14-47d4-c7a9-9c2280a3fb5f"
   },
   "outputs": [
    {
     "name": "stdout",
     "output_type": "stream",
     "text": [
      "Requirement already satisfied: sentencepiece in /usr/local/lib/python3.10/dist-packages (0.1.99)\n"
     ]
    }
   ],
   "source": [
    "!pip install sentencepiece"
   ]
  },
  {
   "cell_type": "code",
   "execution_count": null,
   "id": "86270b16",
   "metadata": {
    "colab": {
     "base_uri": "https://localhost:8080/",
     "height": 316,
     "referenced_widgets": [
      "cc15a7de9198405588fa2970113b5c63",
      "3dc8a51740ff4ae6b5931c5589e45df8",
      "d97dd82c823d4b28ba620c1f6cbd12ca",
      "17134c2de1ef47cf8557c1a1e32fb933",
      "8e6d63484c9f440998257bac2afb0d54",
      "9552986b1251483689711222289e9079",
      "bf63007a6838480fbf5309a4a1806cd1",
      "c39525b4356c42a1a86bd325d47d94d4",
      "96c3c1ddbbdc48b8a2d5a95946b37a7b",
      "244ace4eb8254ff990bfa3f119f6f87b",
      "1c975e23a047441e9b0f225717be925f",
      "9df2a20b160740b9988d2fd11a1794a3",
      "763848f4dbba46208e585dc989580215",
      "7235a174b43e461a8b6ec77ea5fa3673",
      "d35a2fa4e0a44f5ba3ddee6410af46ab",
      "dd3d639d8da943c19af7fd25ca1015e5",
      "63b4dfd2327d4bb6bc1aa62ebeb0de22",
      "f3b5e7b13e664acd936f77a4b6bd8421",
      "b6211fd8cbc544f9b0cfd77641ee9fe8",
      "82d5fa69de964b46b2dc5ab7185d396b",
      "e73e39850e874c0f9830fabc303f8317",
      "10b2cf02e0774c78930967a6a0511fdf",
      "d10cbfddc00746b482a6717c81bb7132",
      "d30e1b8e35924615bd244726e295e8b7",
      "f2901adc52a34d3a8c9b0341dea9dcc0",
      "85435b2615204f77872bb103e7a80ff8",
      "331c1c627c8843a6bf2292aa5808ddad",
      "377731372b3748c395c1f6feb5ef734c",
      "9ffe52ae9d884afba120bfd3002fef50",
      "579dcef446034cd09c3afb328f376d1a",
      "32222eee6c944b2c8a2051b07565aac9",
      "333987e9230b4265904692d5784c6115",
      "3fadea4fafce4e0cb6febd2ff13173d7",
      "27a4a39f45ff48bcbc7ad0d4f3249f7f",
      "953fcdb042b1449089d1c24f9cff1639",
      "ec51be999db74900bccd66694c8d142d",
      "aad8c6bf6802453a920d8c1bbc0d90f3",
      "4c00f463c94a408a9a660aadbaf21a67",
      "aec81263df9d406a9aaa21e0a563e7d5",
      "004cd8da2c5840599e046aa9b159d5a5",
      "40beb5a26acb4d5ea992cef7224b60fc",
      "d5daa63bc9f7411482a7451fa031c861",
      "3eea76d7cff14aee860fe6c166f7f99a",
      "ff3aff788c794f7cb8d6c18e86d70b64",
      "5b0090a7427646e189d285b005a3823c",
      "590c608eab214ae299c1762fdce941dd",
      "e1a0fbb3229a422b88aa2feb1331ee67",
      "3015aa92915847cbab60610efbbbfcd6",
      "ab0960d23eec4e5f8df6d31eab9c38d2",
      "3267443b92ae4f56a8964a6248fd924c",
      "3f162b822eac4161b5220c77838f4018",
      "ef3f70c03b45481d960e46c6d73984f9",
      "39368c68ce324626b11323f577642fc2",
      "2b44ab412c5746a1848a02087acec698",
      "1d05ae41cc1442b883cd3d5b2b45c8cc",
      "3c5ca87e757147c18a22e15b80192b92",
      "778f66366230473fbba61ce1d703b888",
      "ac130a45e4694efb8a2072018671cbdd",
      "7f53b9d634d04fb2a61eb3c804390fc1",
      "d2da221c7de84df7b6903213d317a26f",
      "31accc3f0a844489815ad7ab58a0d31c",
      "fcf10d8b8a07476097b5399287a437c1",
      "331b3350d7264930bd2893888734ce2b",
      "2a963490286f40d7b372134f2e3b5d07",
      "17065784140e44eb931ac45352818151",
      "365546872d3240a59fe922b1ac5ce0fc",
      "c6f039689dac4a34b60c4ceddb67e762",
      "d46ba1f2b78a4a79a9c1af3c58a90be5",
      "4c14265a84154fd3b0cd92afef80fd57",
      "f424345941a24934a5f66457be6a85f5",
      "6c0193e12afb408e9adb55756afd7ef9",
      "af455babdf8240d58ab02baae5718321",
      "1a434f517f3e46fcb4c66ed3541bbd5e",
      "8c92ad6e201242d48bb76aadbac7501c",
      "35683984d5d84aa991e7c4764e9414df",
      "dd677f33ad114697a797134ebafb5093",
      "bf766e30d9a542b09889e0b3a534feb5"
     ]
    },
    "id": "xLsqhf_dPpTW",
    "outputId": "4e5467c9-69b9-4120-c21b-fa8e6c7b64c4"
   },
   "outputs": [
    {
     "data": {
      "application/vnd.jupyter.widget-view+json": {
       "model_id": "cc15a7de9198405588fa2970113b5c63",
       "version_major": 2,
       "version_minor": 0
      },
      "text/plain": [
       "config.json:   0%|          | 0.00/1.42k [00:00<?, ?B/s]"
      ]
     },
     "metadata": {},
     "output_type": "display_data"
    },
    {
     "data": {
      "application/vnd.jupyter.widget-view+json": {
       "model_id": "9df2a20b160740b9988d2fd11a1794a3",
       "version_major": 2,
       "version_minor": 0
      },
      "text/plain": [
       "pytorch_model.bin:   0%|          | 0.00/301M [00:00<?, ?B/s]"
      ]
     },
     "metadata": {},
     "output_type": "display_data"
    },
    {
     "data": {
      "application/vnd.jupyter.widget-view+json": {
       "model_id": "d10cbfddc00746b482a6717c81bb7132",
       "version_major": 2,
       "version_minor": 0
      },
      "text/plain": [
       "generation_config.json:   0%|          | 0.00/293 [00:00<?, ?B/s]"
      ]
     },
     "metadata": {},
     "output_type": "display_data"
    },
    {
     "data": {
      "application/vnd.jupyter.widget-view+json": {
       "model_id": "27a4a39f45ff48bcbc7ad0d4f3249f7f",
       "version_major": 2,
       "version_minor": 0
      },
      "text/plain": [
       "tokenizer_config.json:   0%|          | 0.00/42.0 [00:00<?, ?B/s]"
      ]
     },
     "metadata": {},
     "output_type": "display_data"
    },
    {
     "data": {
      "application/vnd.jupyter.widget-view+json": {
       "model_id": "5b0090a7427646e189d285b005a3823c",
       "version_major": 2,
       "version_minor": 0
      },
      "text/plain": [
       "source.spm:   0%|          | 0.00/802k [00:00<?, ?B/s]"
      ]
     },
     "metadata": {},
     "output_type": "display_data"
    },
    {
     "data": {
      "application/vnd.jupyter.widget-view+json": {
       "model_id": "3c5ca87e757147c18a22e15b80192b92",
       "version_major": 2,
       "version_minor": 0
      },
      "text/plain": [
       "target.spm:   0%|          | 0.00/778k [00:00<?, ?B/s]"
      ]
     },
     "metadata": {},
     "output_type": "display_data"
    },
    {
     "data": {
      "application/vnd.jupyter.widget-view+json": {
       "model_id": "c6f039689dac4a34b60c4ceddb67e762",
       "version_major": 2,
       "version_minor": 0
      },
      "text/plain": [
       "vocab.json:   0%|          | 0.00/1.34M [00:00<?, ?B/s]"
      ]
     },
     "metadata": {},
     "output_type": "display_data"
    },
    {
     "name": "stderr",
     "output_type": "stream",
     "text": [
      "/usr/local/lib/python3.10/dist-packages/transformers/models/marian/tokenization_marian.py:197: UserWarning: Recommended: pip install sacremoses.\n",
      "  warnings.warn(\"Recommended: pip install sacremoses.\")\n"
     ]
    },
    {
     "data": {
      "text/plain": [
       "[{'translation_text': 'This course is produced by Hugging Face.'}]"
      ]
     },
     "execution_count": 17,
     "metadata": {},
     "output_type": "execute_result"
    }
   ],
   "source": [
    "translator = pipeline(\"translation\",\n",
    "                      model=\"Helsinki-NLP/opus-mt-fr-en\")\n",
    "translator(\"Ce cours est produit par Hugging Face.\")"
   ]
  },
  {
   "cell_type": "code",
   "execution_count": null,
   "id": "19708c98",
   "metadata": {
    "id": "MDkUvtzlQCM1"
   },
   "outputs": [],
   "source": [
    "from transformers import AutoTokenizer\n",
    "\n",
    "checkpoint = \"distilbert-base-uncased-finetuned-sst-2-english\"\n",
    "tokenizer = AutoTokenizer.from_pretrained(checkpoint)\n",
    "\n",
    "raw_inputs = [\n",
    "\"I've been waiting for a HuggingFace course my whole life.\",\n",
    "\"I hate this so much!\",\n",
    "]\n",
    "\n",
    "inputs = tokenizer(raw_inputs, padding=True, truncation=True, return_tensors=\"pt\")"
   ]
  },
  {
   "cell_type": "code",
   "execution_count": null,
   "id": "b7b059c7",
   "metadata": {
    "id": "Y6YlqL3HSVXx"
   },
   "outputs": [],
   "source": [
    "from pprint import pprint"
   ]
  },
  {
   "cell_type": "code",
   "execution_count": null,
   "id": "6fdd3e56",
   "metadata": {
    "colab": {
     "base_uri": "https://localhost:8080/"
    },
    "id": "RLg6CXQzSNu9",
    "outputId": "ba512a6f-e808-44f4-d597-d0ecd0c3412a"
   },
   "outputs": [
    {
     "data": {
      "text/plain": [
       "{'input_ids': tensor([[  101,  1045,  1005,  2310,  2042,  3403,  2005,  1037, 17662, 12172,\n",
       "          2607,  2026,  2878,  2166,  1012,   102],\n",
       "        [  101,  1045,  5223,  2023,  2061,  2172,   999,   102,     0,     0,\n",
       "             0,     0,     0,     0,     0,     0]]), 'attention_mask': tensor([[1, 1, 1, 1, 1, 1, 1, 1, 1, 1, 1, 1, 1, 1, 1, 1],\n",
       "        [1, 1, 1, 1, 1, 1, 1, 1, 0, 0, 0, 0, 0, 0, 0, 0]])}"
      ]
     },
     "execution_count": 20,
     "metadata": {},
     "output_type": "execute_result"
    }
   ],
   "source": [
    "inputs"
   ]
  }
 ],
 "metadata": {},
 "nbformat": 4,
 "nbformat_minor": 5
}
