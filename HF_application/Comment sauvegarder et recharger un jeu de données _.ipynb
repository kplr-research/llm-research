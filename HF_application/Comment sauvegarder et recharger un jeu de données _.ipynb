{
 "cells": [
  {
   "cell_type": "markdown",
   "id": "94032f46",
   "metadata": {
    "id": "z5ETACbnVSl6"
   },
   "source": [
    "## Comment utiliser les Dataframes ?"
   ]
  },
  {
   "cell_type": "code",
   "execution_count": null,
   "id": "829c711c",
   "metadata": {
    "id": "k3tmm6BHC0CJ"
   },
   "outputs": [],
   "source": [
    "from datasets import load_dataset\n",
    "\n",
    "dataset = load_dataset(\"swiss_judgment_prediction\", \"all_languages\", split=\"train\")\n",
    "dataset[0]"
   ]
  },
  {
   "cell_type": "code",
   "execution_count": null,
   "id": "af86b1eb",
   "metadata": {
    "id": "vaqahtkyC0CJ"
   },
   "outputs": [],
   "source": [
    "# Convert the output format to pandas.DataFrame\n",
    "dataset.set_format(\"pandas\")\n",
    "dataset[0]"
   ]
  },
  {
   "cell_type": "code",
   "execution_count": null,
   "id": "947fd6f7",
   "metadata": {
    "id": "1LcypJOOC0CJ"
   },
   "outputs": [],
   "source": [
    "dataset.__getitem__(0)\n",
    "\n",
    "dataset.set_format(\"pandas\")\n",
    "\n",
    "dataset.__getitem__(0)"
   ]
  },
  {
   "cell_type": "code",
   "execution_count": null,
   "id": "abee8cb5",
   "metadata": {
    "id": "tsYr9tpZC0CK"
   },
   "outputs": [],
   "source": [
    "df = dataset.to_pandas()\n",
    "df.head()"
   ]
  },
  {
   "cell_type": "code",
   "execution_count": null,
   "id": "ecab0ae6",
   "metadata": {
    "id": "E9yD8QdqC0CK"
   },
   "outputs": [],
   "source": [
    "# How are languages distributed across regions?\n",
    "df.groupby(\"region\")[\"language\"].value_counts()\n",
    "\n",
    "# Which legal area is most common?\n",
    "df[\"legal area\"].value_counts()"
   ]
  },
  {
   "cell_type": "code",
   "execution_count": null,
   "id": "0076e6fc",
   "metadata": {
    "id": "hUWAhi63C0CK"
   },
   "outputs": [],
   "source": [
    "from transformers import AutoTokenizer\n",
    "\n",
    "# Load a pretrained tokenizer\n",
    "tokenizer = AutoTokenizer.from_pretrained(\"bert-base-uncased\")\n",
    "# Tokenize the `text` column\n",
    "dataset.map(lambda x : tokenizer(x[\"text\"]))"
   ]
  },
  {
   "cell_type": "code",
   "execution_count": null,
   "id": "8c23019b",
   "metadata": {
    "id": "u0V0zrLOC0CL"
   },
   "outputs": [],
   "source": [
    "# Reset back to Arrow format\n",
    "dataset.reset_format()\n",
    "# Now we can tokenize!\n",
    "dataset.map(lambda x : tokenizer(x[\"text\"]))"
   ]
  }
 ],
 "metadata": {},
 "nbformat": 4,
 "nbformat_minor": 5
}
