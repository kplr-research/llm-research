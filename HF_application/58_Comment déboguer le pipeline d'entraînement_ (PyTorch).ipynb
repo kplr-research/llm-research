{
 "cells": [
  {
   "cell_type": "markdown",
   "id": "3c18a5c9",
   "metadata": {
    "id": "WXhf-kvDcozM"
   },
   "source": [
    "## Comment utiliser le déboggeur ?"
   ]
  },
  {
   "cell_type": "code",
   "execution_count": null,
   "id": "02bbc8c3",
   "metadata": {
    "id": "M-876-PtcuQB"
   },
   "outputs": [],
   "source": []
  }
 ],
 "metadata": {},
 "nbformat": 4,
 "nbformat_minor": 5
}
