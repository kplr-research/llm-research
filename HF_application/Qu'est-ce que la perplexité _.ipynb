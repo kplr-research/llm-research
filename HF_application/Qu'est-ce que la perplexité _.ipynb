{
 "cells": [
  {
   "cell_type": "markdown",
   "id": "76ce4d8c",
   "metadata": {
    "id": "FYC5VviKZ3vE"
   },
   "source": [
    "## Comment effectuer le traitement des données pour la modélisation du langage masqué?"
   ]
  },
  {
   "cell_type": "code",
   "execution_count": null,
   "id": "bb1bbe73",
   "metadata": {
    "id": "IBycjb8eZ85b"
   },
   "outputs": [],
   "source": []
  },
  {
   "cell_type": "code",
   "execution_count": null,
   "id": "5f0e5e51",
   "metadata": {
    "id": "5n4xWT4A-5RP"
   },
   "outputs": [],
   "source": [
    "from datasets import load_dataset\n",
    "\n",
    "raw_datasets = load_dataset(\"wikitext\", \"wikitext-2-raw-v1\")\n",
    "raw_datasets[\"train\"]"
   ]
  },
  {
   "cell_type": "code",
   "execution_count": null,
   "id": "006901b6",
   "metadata": {
    "id": "8qxliHt9-5RP"
   },
   "outputs": [],
   "source": [
    "from datasets import load_dataset\n",
    "from transformers import AutoTokenizer\n",
    "\n",
    "raw_datasets = load_dataset(\"imdb\")\n",
    "raw_datasets = raw_datasets.remove_columns(\"label\")\n",
    "\n",
    "model_checkpoint = \"distilbert-base-cased\"\n",
    "tokenizer = AutoTokenizer.from_pretrained(model_checkpoint)\n",
    "context_length = 128\n",
    "\n",
    "def tokenize_pad_and_truncate(texts):\n",
    "    return tokenizer(texts[\"text\"], truncation=True, padding=\"max_length\", max_length=context_length)\n",
    "\n",
    "tokenized_datasets = raw_datasets.map(tokenize_pad_and_truncate, batched=True)"
   ]
  },
  {
   "cell_type": "code",
   "execution_count": null,
   "id": "c8014175",
   "metadata": {
    "id": "sxb4m-Hk-5RQ"
   },
   "outputs": [],
   "source": [
    "def tokenize_and_chunk(texts):\n",
    "    return tokenizer(\n",
    "        texts[\"text\"], truncation=True, max_length=context_length,\n",
    "        return_overflowing_tokens=True\n",
    "    )\n",
    "\n",
    "tokenized_datasets = raw_datasets.map(\n",
    "    tokenize_and_chunk, batched=True, remove_columns=[\"text\"]\n",
    ")\n",
    "\n",
    "len(raw_datasets[\"train\"]), len(tokenized_datasets[\"train\"])"
   ]
  },
  {
   "cell_type": "code",
   "execution_count": null,
   "id": "edeaca74",
   "metadata": {
    "id": "O5RSaz2u-5RQ"
   },
   "outputs": [],
   "source": [
    "def tokenize_and_chunk(texts):\n",
    "    all_input_ids = []\n",
    "    for input_ids in tokenizer(texts[\"text\"])[\"input_ids\"]:\n",
    "        all_input_ids.extend(input_ids)\n",
    "        all_input_ids.append(tokenizer.eos_token_id)\n",
    "\n",
    "    chunks = []\n",
    "    for idx in range(0, len(all_input_ids), context_length):\n",
    "        chunks.append(all_input_ids[idx: idx + context_length])\n",
    "    return {\"input_ids\": chunks}\n",
    "\n",
    "tokenized_datasets = raw_datasets.map(tokenize_and_chunk, batched=True, remove_columns=[\"text\"])\n",
    "\n",
    "len(raw_datasets[\"train\"]), len(tokenized_datasets[\"train\"])"
   ]
  },
  {
   "cell_type": "code",
   "execution_count": null,
   "id": "256abd54",
   "metadata": {
    "id": "ZcoKB9iC-5RQ"
   },
   "outputs": [],
   "source": [
    "from transformers import DataCollatorForLanguageModeling\n",
    "\n",
    "data_collator = DataCollatorForLanguageModeling(tokenizer, mlm_probability=0.15)"
   ]
  }
 ],
 "metadata": {},
 "nbformat": 4,
 "nbformat_minor": 5
}
