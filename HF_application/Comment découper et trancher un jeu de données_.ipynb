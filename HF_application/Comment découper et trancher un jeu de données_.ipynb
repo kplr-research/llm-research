{
 "cells": [
  {
   "cell_type": "markdown",
   "id": "17f0d3ce",
   "metadata": {
    "id": "rYUm-oWcUw0v"
   },
   "source": [
    "## Comment charger un jeu de données personnalisé?"
   ]
  },
  {
   "cell_type": "code",
   "execution_count": null,
   "id": "87080457",
   "metadata": {
    "id": "8CwMpEZnCbDY"
   },
   "outputs": [],
   "source": [
    "!wget https://archive.ics.uci.edu/ml/machine-learning-databases/wine-quality/winequality-white.csv"
   ]
  },
  {
   "cell_type": "code",
   "execution_count": null,
   "id": "7c6aad30",
   "metadata": {
    "id": "P8ECSgxcCbDY"
   },
   "outputs": [],
   "source": [
    "from datasets import load_dataset\n",
    "\n",
    "local_csv_dataset = load_dataset(\"csv\", data_files=\"winequality-white.csv\", sep=\";\")\n",
    "local_csv_dataset[\"train\"]"
   ]
  },
  {
   "cell_type": "code",
   "execution_count": null,
   "id": "3cae28d7",
   "metadata": {
    "id": "5-H2tKDFCbDZ"
   },
   "outputs": [],
   "source": [
    "# Load the dataset from the URL directly\n",
    "dataset_url = \"https://archive.ics.uci.edu/ml/machine-learning-databases/wine-quality/winequality-white.csv\"\n",
    "remote_csv_dataset = load_dataset(\"csv\", data_files=dataset_url, sep=\";\")\n",
    "remote_csv_dataset"
   ]
  },
  {
   "cell_type": "code",
   "execution_count": null,
   "id": "f95bd89f",
   "metadata": {
    "id": "WGvMBfsGCbDZ"
   },
   "outputs": [],
   "source": [
    "dataset_url = \"https://raw.githubusercontent.com/karpathy/char-rnn/master/data/tinyshakespeare/input.txt\"\n",
    "text_dataset = load_dataset(\"text\", data_files=dataset_url)\n",
    "text_dataset[\"train\"][:5]"
   ]
  },
  {
   "cell_type": "code",
   "execution_count": null,
   "id": "c5009183",
   "metadata": {
    "id": "0k8xz9LsCbDZ"
   },
   "outputs": [],
   "source": [
    "dataset_url = \"https://raw.githubusercontent.com/hirupert/sede/main/data/sede/train.jsonl\"\n",
    "json_lines_dataset = load_dataset(\"json\", data_files=dataset_url)\n",
    "json_lines_dataset[\"train\"][:2]"
   ]
  },
  {
   "cell_type": "code",
   "execution_count": null,
   "id": "976aa5dc",
   "metadata": {
    "id": "BnxgjvRACbDa"
   },
   "outputs": [],
   "source": [
    "dataset_url = \"https://rajpurkar.github.io/SQuAD-explorer/dataset/train-v2.0.json\"\n",
    "json_dataset = load_dataset(\"json\", data_files=dataset_url, field=\"data\")\n",
    "json_dataset"
   ]
  },
  {
   "cell_type": "code",
   "execution_count": null,
   "id": "81b0d780",
   "metadata": {
    "id": "VBdxRjabCbDa"
   },
   "outputs": [],
   "source": [
    "url = \"https://rajpurkar.github.io/SQuAD-explorer/dataset/\"\n",
    "data_files = {\"train\": f\"{url}train-v2.0.json\", \"validation\": f\"{url}dev-v2.0.json\"}\n",
    "json_dataset = load_dataset(\"json\", data_files=data_files, field=\"data\")\n",
    "json_dataset"
   ]
  }
 ],
 "metadata": {},
 "nbformat": 4,
 "nbformat_minor": 5
}
