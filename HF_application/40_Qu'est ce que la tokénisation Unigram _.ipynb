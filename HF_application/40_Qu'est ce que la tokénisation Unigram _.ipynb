{
 "cells": [
  {
   "cell_type": "markdown",
   "id": "8cc123b5",
   "metadata": {
    "id": "Rwnf27dfZIZQ"
   },
   "source": [
    "## Qu'est ce que la tokénisation WordPiece ?"
   ]
  }
 ],
 "metadata": {},
 "nbformat": 4,
 "nbformat_minor": 5
}
