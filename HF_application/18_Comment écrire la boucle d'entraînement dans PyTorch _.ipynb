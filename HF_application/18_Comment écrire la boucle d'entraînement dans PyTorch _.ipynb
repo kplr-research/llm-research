{
 "cells": [
  {
   "cell_type": "markdown",
   "id": "de4db146",
   "metadata": {
    "id": "mwshW5LATk4D"
   },
   "source": [
    "## Comment utiliser les prédictions et métriques TensorFlow?"
   ]
  },
  {
   "cell_type": "code",
   "execution_count": null,
   "id": "ed4ed9a4",
   "metadata": {
    "id": "sGPMMFrUTp6A"
   },
   "outputs": [],
   "source": [
    "preds = model.predict(tokenized_datasets['validation'])['logits']\n",
    "probabilities = tf.nn.softmax(preds)\n",
    "class_preds = np.argmax(probabilities, axis=1)"
   ]
  },
  {
   "cell_type": "code",
   "execution_count": null,
   "id": "e5d89513",
   "metadata": {
    "id": "mCucEXV857M5"
   },
   "outputs": [],
   "source": [
    "from datasets import load_metric\n",
    "\n",
    "metric = load_metric(\"glue\", \"mrpc\")\n",
    "metric.compute(predictions = class_preds, references=validation_labels)"
   ]
  },
  {
   "cell_type": "code",
   "execution_count": null,
   "id": "9ca73a08",
   "metadata": {
    "id": "gRDOLCin6mZx"
   },
   "outputs": [],
   "source": [
    "model.compile(loss=loss, opt=opt, metrics=['accuracy'])"
   ]
  }
 ],
 "metadata": {},
 "nbformat": 4,
 "nbformat_minor": 5
}
