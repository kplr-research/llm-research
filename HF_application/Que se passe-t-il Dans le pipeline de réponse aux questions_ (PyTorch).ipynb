{
 "cells": [
  {
   "cell_type": "markdown",
   "id": "eb92dd47",
   "metadata": {
    "id": "P3BpbZttXhzh"
   },
   "source": [
    "## Comment utiliser le pipeline de réponse aux questions? (PyTorch)"
   ]
  },
  {
   "cell_type": "code",
   "execution_count": null,
   "id": "087478fe",
   "metadata": {
    "id": "ZVWnaGGhXmyN"
   },
   "outputs": [],
   "source": []
  }
 ],
 "metadata": {},
 "nbformat": 4,
 "nbformat_minor": 5
}
