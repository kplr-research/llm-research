{
 "cells": [
  {
   "cell_type": "markdown",
   "id": "d2a12cdf",
   "metadata": {
    "id": "bHSVKkIMUroB"
   },
   "source": [
    "## Comment utiliser L'API Push to Hub? (Tensorflow)"
   ]
  },
  {
   "cell_type": "code",
   "execution_count": null,
   "id": "d3115f68",
   "metadata": {
    "id": "Z2GyTuZwUtiG"
   },
   "outputs": [],
   "source": []
  }
 ],
 "metadata": {},
 "nbformat": 4,
 "nbformat_minor": 5
}
