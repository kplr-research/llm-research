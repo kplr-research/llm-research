{
 "cells": [
  {
   "cell_type": "code",
   "execution_count": null,
   "id": "6d583022",
   "metadata": {
    "colab": {
     "base_uri": "https://localhost:8080/"
    },
    "id": "CJOBFxMFtefY",
    "outputId": "1d134fcc-f9a7-4ae6-b75f-693fe084cc23"
   },
   "outputs": [
    {
     "name": "stdout",
     "output_type": "stream",
     "text": [
      "Transformers version: 4.35.2\n"
     ]
    }
   ],
   "source": [
    "import pkg_resources\n",
    "\n",
    "# obtenir la version du package transformers\n",
    "transformers_version = pkg_resources.get_distribution(\"transformers\").version\n",
    "print(\"Transformers version:\", transformers_version)"
   ]
  }
 ],
 "metadata": {},
 "nbformat": 4,
 "nbformat_minor": 5
}
