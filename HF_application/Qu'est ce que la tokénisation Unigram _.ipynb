{
 "cells": [
  {
   "cell_type": "markdown",
   "id": "401c0bda",
   "metadata": {
    "id": "Rwnf27dfZIZQ"
   },
   "source": [
    "## Qu'est ce que la tokénisation WordPiece ?"
   ]
  }
 ],
 "metadata": {},
 "nbformat": 4,
 "nbformat_minor": 5
}
