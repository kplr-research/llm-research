{
 "cells": [
  {
   "cell_type": "markdown",
   "id": "09971825",
   "metadata": {
    "id": "PMD05xwDYlbS"
   },
   "source": [
    "## Qu'est ce que la Tokenisation Byte Pair Encoding?"
   ]
  },
  {
   "cell_type": "code",
   "execution_count": null,
   "id": "e938ac8f",
   "metadata": {
    "id": "941EYnvpYrk7"
   },
   "outputs": [],
   "source": []
  }
 ],
 "metadata": {},
 "nbformat": 4,
 "nbformat_minor": 5
}
