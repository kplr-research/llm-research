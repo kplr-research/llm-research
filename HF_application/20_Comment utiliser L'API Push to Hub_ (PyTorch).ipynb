{
 "cells": [
  {
   "cell_type": "markdown",
   "id": "682433f3",
   "metadata": {
    "id": "LRUprHoGUI1_"
   },
   "source": [
    "## Comment optimiser la boucle d'entraînement PyTorch avec Accelerate?"
   ]
  },
  {
   "cell_type": "markdown",
   "id": "2167cbb8",
   "metadata": {
    "id": "kyFKd5qm7IJ2"
   },
   "source": [
    "Documentation [Accelerate](https://huggingface.co/docs/accelerate/index)"
   ]
  },
  {
   "cell_type": "code",
   "execution_count": null,
   "id": "c8325d37",
   "metadata": {
    "id": "Um2RiXdN7xC2"
   },
   "outputs": [],
   "source": [
    "pip install accelerate"
   ]
  },
  {
   "cell_type": "code",
   "execution_count": null,
   "id": "f15be1df",
   "metadata": {
    "id": "EhxPWoBh8DHy"
   },
   "outputs": [],
   "source": [
    "from accelerate import Accelerator\n",
    "\n",
    "accelerator = Accelerator()\n",
    "\n",
    "model, optimizer, train_dataloader = accelerator.prepare(model, optimizer, train_dataloader)\n",
    "\n",
    "model. train()\n",
    "for epoch in range(nua_epochs):\n",
    "    for batch in train_dataloader:\n",
    "        batch = {k: v.to(device) for k, v in batch.itens()}\n",
    "        outputs = model(**batch)\n",
    "        loss = outputs.loss\n",
    "        loss. backwaré()\n",
    "        accelerator. backward(loss)\n",
    "        optimizer.step()\n",
    "\n",
    "        lr_scheduler.step()\n",
    "        optimizer.zero_grad()\n",
    "        progress_bar.update(1)"
   ]
  }
 ],
 "metadata": {},
 "nbformat": 4,
 "nbformat_minor": 5
}
