{
 "cells": [
  {
   "cell_type": "markdown",
   "id": "20adb090",
   "metadata": {
    "id": "mwshW5LATk4D"
   },
   "source": [
    "## Comment utiliser les prédictions et métriques TensorFlow?"
   ]
  },
  {
   "cell_type": "code",
   "execution_count": null,
   "id": "db1f5a22",
   "metadata": {
    "id": "sGPMMFrUTp6A"
   },
   "outputs": [],
   "source": [
    "preds = model.predict(tokenized_datasets['validation'])['logits']\n",
    "probabilities = tf.nn.softmax(preds)\n",
    "class_preds = np.argmax(probabilities, axis=1)"
   ]
  },
  {
   "cell_type": "code",
   "execution_count": null,
   "id": "82a31a4b",
   "metadata": {
    "id": "mCucEXV857M5"
   },
   "outputs": [],
   "source": [
    "from datasets import load_metric\n",
    "\n",
    "metric = load_metric(\"glue\", \"mrpc\")\n",
    "metric.compute(predictions = class_preds, references=validation_labels)"
   ]
  },
  {
   "cell_type": "code",
   "execution_count": null,
   "id": "45a9158a",
   "metadata": {
    "id": "gRDOLCin6mZx"
   },
   "outputs": [],
   "source": [
    "model.compile(loss=loss, opt=opt, metrics=['accuracy'])"
   ]
  }
 ],
 "metadata": {},
 "nbformat": 4,
 "nbformat_minor": 5
}
