{
 "cells": [
  {
   "cell_type": "markdown",
   "id": "e5e43f81",
   "metadata": {
    "id": "wGt9fIraacmQ"
   },
   "source": [
    "## Qu'est-ce que la métrique BLEU ?"
   ]
  },
  {
   "cell_type": "code",
   "execution_count": null,
   "id": "edbaaf91",
   "metadata": {
    "id": "_QY-5JgeBMPv"
   },
   "outputs": [],
   "source": [
    "from datasets import load_metric\n",
    "\n",
    "bleu = load_metric(\"bleu\")\n",
    "predictions = [[\"I\", \"have\", \"thirty\", \"six\", \"years\"]]\n",
    "references = [\n",
    "    [[\"I\", \"am\", \"thirty\", \"six\", \"years\", \"old\"], [\"I\", \"am\", \"thirty\", \"six\"]]\n",
    "]\n",
    "bleu.compute(predictions=predictions, references=references)"
   ]
  },
  {
   "cell_type": "code",
   "execution_count": null,
   "id": "8a4c598a",
   "metadata": {
    "id": "kZrQsPqzBMPv"
   },
   "outputs": [],
   "source": [
    "predictions = [[\"I\", \"have\", \"thirty\", \"six\", \"years\"]]\n",
    "references = [\n",
    "    [[\"I\", \"am\", \"thirty\", \"six\", \"years\", \"old\"], [\"I\", \"am\", \"thirty\", \"six\"]]\n",
    "]\n",
    "bleu.compute(predictions=predictions, references=references)"
   ]
  },
  {
   "cell_type": "code",
   "execution_count": null,
   "id": "dcc10d0b",
   "metadata": {
    "id": "-rXQ2ghJBMPv"
   },
   "outputs": [],
   "source": [
    "predictions = [[\"I\", \"have\", \"thirty\", \"six\", \"years\"]]\n",
    "references = [\n",
    "    [[\"I\", \"am\", \"thirty\", \"six\", \"years\", \"old\"], [\"I\", \"am\", \"thirty\", \"six\"]]\n",
    "]\n",
    "bleu.compute(predictions=predictions, references=references)"
   ]
  },
  {
   "cell_type": "code",
   "execution_count": null,
   "id": "e450f706",
   "metadata": {
    "id": "ND3U1-NcBMPw"
   },
   "outputs": [],
   "source": [
    "! pip install sacrebleu"
   ]
  },
  {
   "cell_type": "code",
   "execution_count": null,
   "id": "1ba46802",
   "metadata": {
    "id": "-IG3rT5-BMPw"
   },
   "outputs": [],
   "source": [
    "sacrebleu = load_metric(\"sacrebleu\")\n",
    "# SacreBLEU operates on raw text, not tokens\n",
    "predictions = [\"I have thirty six years\"]\n",
    "references = [[\"I am thirty six years old\", \"I am thirty six\"]]\n",
    "sacrebleu.compute(predictions=predictions, references=references)"
   ]
  }
 ],
 "metadata": {},
 "nbformat": 4,
 "nbformat_minor": 5
}
