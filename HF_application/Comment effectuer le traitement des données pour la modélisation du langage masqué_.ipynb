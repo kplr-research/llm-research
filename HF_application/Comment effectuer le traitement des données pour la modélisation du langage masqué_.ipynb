{
 "cells": [
  {
   "cell_type": "markdown",
   "id": "36657600",
   "metadata": {
    "id": "mnnphu4rZu16"
   },
   "source": [
    "## Comment effectuer le Traitement des données pour la classification de tokens ?"
   ]
  },
  {
   "cell_type": "code",
   "execution_count": null,
   "id": "545c9d02",
   "metadata": {
    "id": "TWUytC9E-vK6"
   },
   "outputs": [],
   "source": [
    "from datasets import load_dataset\n",
    "\n",
    "raw_datasets = load_dataset(\"conll2003\")\n",
    "raw_datasets = raw_datasets.remove_columns([\"chunk_tags\", \"id\", \"pos_tags\"])\n",
    "raw_datasets = raw_datasets.rename_column(\"ner_tags\", \"labels\")\n",
    "raw_datasets = raw_datasets.rename_column(\"tokens\", \"words\")\n",
    "raw_datasets[\"train\"]"
   ]
  },
  {
   "cell_type": "code",
   "execution_count": null,
   "id": "918ecb17",
   "metadata": {
    "id": "wRK5e0DX-vK7"
   },
   "outputs": [],
   "source": [
    "print(raw_datasets[\"train\"][0][\"words\"])\n",
    "print(raw_datasets[\"train\"][0][\"labels\"])"
   ]
  },
  {
   "cell_type": "code",
   "execution_count": null,
   "id": "e97ab513",
   "metadata": {
    "id": "C8wPTHnM-vK7"
   },
   "outputs": [],
   "source": [
    "label_names = raw_datasets[\"train\"].features[\"labels\"].feature.names\n",
    "label_names"
   ]
  },
  {
   "cell_type": "code",
   "execution_count": null,
   "id": "b453da3d",
   "metadata": {
    "id": "wesuuv6b-vK8"
   },
   "outputs": [],
   "source": [
    "from transformers import AutoTokenizer\n",
    "\n",
    "model_checkpoint = \"bert-base-cased\"\n",
    "tokenizer = AutoTokenizer.from_pretrained(model_checkpoint)\n",
    "\n",
    "inputs = tokenizer(raw_datasets[\"train\"][0][\"words\"], is_split_into_words=True)\n",
    "inputs.tokens()"
   ]
  },
  {
   "cell_type": "code",
   "execution_count": null,
   "id": "c782ac71",
   "metadata": {
    "id": "KSRdIVAF-vK9"
   },
   "outputs": [],
   "source": [
    "def shift_label(label):\n",
    "    # If the label is B-XXX we change it to I-XXX\n",
    "    if label % 2 == 1:\n",
    "        label += 1\n",
    "    return label\n",
    "\n",
    "def align_labels_with_tokens(labels, word_ids):\n",
    "    new_labels = []\n",
    "    current_word = None\n",
    "    for word_id in word_ids:\n",
    "        if word_id is None:\n",
    "            new_labels.append(-100)\n",
    "        elif word_id != current_word:\n",
    "            # Start of a new word!\n",
    "            current_word = word_id\n",
    "            new_labels.append(labels[word_id])\n",
    "        else:\n",
    "            new_labels.append(shift_label(labels[word_id]))\n",
    "\n",
    "    return new_labels"
   ]
  },
  {
   "cell_type": "code",
   "execution_count": null,
   "id": "f1263ca7",
   "metadata": {
    "id": "0ODxJsbp-vK9"
   },
   "outputs": [],
   "source": [
    "def tokenize_and_align_labels(examples):\n",
    "    tokenized_inputs = tokenizer(examples[\"words\"], truncation=True, is_split_into_words=True)\n",
    "    new_labels = []\n",
    "    for i, labels in enumerate(examples[\"labels\"]):\n",
    "        word_ids = tokenized_inputs.word_ids(i)\n",
    "        new_labels.append(align_labels_with_tokens(labels, word_ids))\n",
    "\n",
    "    tokenized_inputs[\"labels\"] = new_labels\n",
    "    return tokenized_inputs\n",
    "\n",
    "tokenized_datasets = raw_datasets.map(tokenize_and_align_labels, batched=True)"
   ]
  },
  {
   "cell_type": "code",
   "execution_count": null,
   "id": "a3b706e6",
   "metadata": {
    "id": "PQ-kyEtq-vK9"
   },
   "outputs": [],
   "source": [
    "from transformers import DataCollatorForTokenClassification\n",
    "\n",
    "data_collator = DataCollatorForTokenClassification(tokenizer=tokenizer)"
   ]
  }
 ],
 "metadata": {},
 "nbformat": 4,
 "nbformat_minor": 5
}
