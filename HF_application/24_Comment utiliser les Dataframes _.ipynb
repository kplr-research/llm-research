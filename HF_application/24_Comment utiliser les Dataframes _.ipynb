{
 "cells": [
  {
   "cell_type": "markdown",
   "id": "4788f67d",
   "metadata": {
    "id": "qib26A_zU3-E"
   },
   "source": [
    "## Comment découper et trancher un jeu de données?"
   ]
  },
  {
   "cell_type": "code",
   "execution_count": null,
   "id": "e0c71471",
   "metadata": {
    "id": "tY-i0ZU9Cm4N"
   },
   "outputs": [],
   "source": [
    "from datasets import load_dataset\n",
    "\n",
    "squad = load_dataset(\"squad\", split=\"train\")\n",
    "squad[0]"
   ]
  },
  {
   "cell_type": "code",
   "execution_count": null,
   "id": "27d18333",
   "metadata": {
    "id": "GTOBweh4Cm4N"
   },
   "outputs": [],
   "source": [
    "squad_shuffled = squad.shuffle(seed=666)\n",
    "squad_shuffled[0]"
   ]
  },
  {
   "cell_type": "code",
   "execution_count": null,
   "id": "dea14f6e",
   "metadata": {
    "id": "N_yxnOPiCm4O"
   },
   "outputs": [],
   "source": [
    "dataset = squad.train_test_split(test_size=0.1)\n",
    "dataset"
   ]
  },
  {
   "cell_type": "code",
   "execution_count": null,
   "id": "86f2f5a1",
   "metadata": {
    "id": "YY3RugK7Cm4O"
   },
   "outputs": [],
   "source": [
    "indices = [0, 10, 20, 40, 80]\n",
    "examples = squad.select(indices)\n",
    "examples"
   ]
  },
  {
   "cell_type": "code",
   "execution_count": null,
   "id": "9e60ecae",
   "metadata": {
    "id": "c8Q9DxvUCm4O"
   },
   "outputs": [],
   "source": [
    "sample = squad.shuffle().select(range(5))\n",
    "sample"
   ]
  },
  {
   "cell_type": "code",
   "execution_count": null,
   "id": "17468bf3",
   "metadata": {
    "id": "5AX3xVveCm4P"
   },
   "outputs": [],
   "source": [
    "squad_filtered = squad.filter(lambda x : x[\"title\"].startswith(\"L\"))\n",
    "squad_filtered[0]"
   ]
  },
  {
   "cell_type": "code",
   "execution_count": null,
   "id": "afe7d649",
   "metadata": {
    "id": "fsSDqKJxCm4P"
   },
   "outputs": [],
   "source": [
    "squad.rename_column(\"context\", \"passages\")"
   ]
  },
  {
   "cell_type": "code",
   "execution_count": null,
   "id": "08ee2ccd",
   "metadata": {
    "id": "Rq6dTNANCm4P"
   },
   "outputs": [],
   "source": [
    "squad.remove_columns([\"id\", \"title\"])"
   ]
  },
  {
   "cell_type": "code",
   "execution_count": null,
   "id": "9cfdc612",
   "metadata": {
    "id": "QKcMZppaCm4P"
   },
   "outputs": [],
   "source": [
    "squad"
   ]
  },
  {
   "cell_type": "code",
   "execution_count": null,
   "id": "e32daf56",
   "metadata": {
    "id": "iwjE2dpzCm4P"
   },
   "outputs": [],
   "source": [
    "squad.flatten()"
   ]
  },
  {
   "cell_type": "code",
   "execution_count": null,
   "id": "ef4cd865",
   "metadata": {
    "id": "Dim30agTCm4P"
   },
   "outputs": [],
   "source": [
    "def lowercase_title(example):\n",
    "    return {\"title\": example[\"title\"].lower()}\n",
    "\n",
    "squad_lowercase = squad.map(lowercase_title)\n",
    "# Peek at random sample\n",
    "squad_lowercase.shuffle(seed=42)[\"title\"][:5]"
   ]
  },
  {
   "cell_type": "code",
   "execution_count": null,
   "id": "8f38329f",
   "metadata": {
    "id": "ToNDD_imCm4P"
   },
   "outputs": [],
   "source": [
    "from transformers import AutoTokenizer\n",
    "\n",
    "tokenizer = AutoTokenizer.from_pretrained(\"distilbert-base-uncased\")\n",
    "\n",
    "def tokenize_title(example):\n",
    "    return tokenizer(example[\"title\"])\n",
    "\n",
    "squad.map(tokenize_title, batched=True, batch_size=500)"
   ]
  }
 ],
 "metadata": {},
 "nbformat": 4,
 "nbformat_minor": 5
}
