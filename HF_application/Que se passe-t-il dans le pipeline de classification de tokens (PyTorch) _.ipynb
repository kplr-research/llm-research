{
 "cells": [
  {
   "cell_type": "markdown",
   "id": "fc88150f",
   "metadata": {
    "id": "pengT70lWmNc"
   },
   "source": [
    "## Comment bénéficier des superpouvoirs des tokenizers rapides ?"
   ]
  },
  {
   "cell_type": "code",
   "execution_count": null,
   "id": "0672abcc",
   "metadata": {
    "id": "KuNxYqQPIGUL"
   },
   "outputs": [],
   "source": [
    "from transformers import AutoTokenizer\n",
    "\n",
    "tokenizer = AutoTokenizer.from_pretrained(\"bert-base-cased\")\n",
    "print(tokenizer(\"Let's talk about tokenizers superpowers.\")[\"input_ids\"])\n",
    "print(tokenizer(\"Let's talk about tokenizers      superpowers.\")[\"input_ids\"])"
   ]
  },
  {
   "cell_type": "code",
   "execution_count": null,
   "id": "48fb5b72",
   "metadata": {
    "id": "k4rTBhpHIGUL"
   },
   "outputs": [],
   "source": [
    "encoding = tokenizer(\"Let's talk about tokenizers superpowers.\")\n",
    "print(encoding.tokens())\n",
    "print(encoding.word_ids())"
   ]
  },
  {
   "cell_type": "code",
   "execution_count": null,
   "id": "40c6a55b",
   "metadata": {
    "id": "IZFPVGYwIGUL"
   },
   "outputs": [],
   "source": [
    "encoding = tokenizer(\n",
    "    \"Let's talk about tokenizers     superpowers.\",\n",
    "    return_offsets_mapping=True\n",
    ")\n",
    "print(encoding.tokens())\n",
    "print(encoding[\"offset_mapping\"])"
   ]
  }
 ],
 "metadata": {},
 "nbformat": 4,
 "nbformat_minor": 5
}
