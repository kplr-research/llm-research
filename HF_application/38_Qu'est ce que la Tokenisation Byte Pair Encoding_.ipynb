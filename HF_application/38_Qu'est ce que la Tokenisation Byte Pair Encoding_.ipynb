{
 "cells": [
  {
   "cell_type": "markdown",
   "id": "d5c3c211",
   "metadata": {
    "id": "fUUPmVBiYgcw"
   },
   "source": [
    "## Qu'est-ce que la prétokénisation ?"
   ]
  },
  {
   "cell_type": "code",
   "execution_count": null,
   "id": "dd175ad9",
   "metadata": {
    "id": "i827_Wet2CP0"
   },
   "outputs": [],
   "source": [
    "pip install transformers"
   ]
  },
  {
   "cell_type": "code",
   "execution_count": null,
   "id": "cd829f61",
   "metadata": {
    "id": "M3Lt4Jde1Pvu"
   },
   "outputs": [],
   "source": [
    "! pip install datasets transformers[sentencepiece]"
   ]
  },
  {
   "cell_type": "code",
   "execution_count": null,
   "id": "41c9b75a",
   "metadata": {
    "id": "N31wluV_2q4T"
   },
   "outputs": [],
   "source": [
    "# from transformers import AutoTokenizerFast\n",
    "\n",
    "# tokenizer = AutoTokenizerFast.from_pretrained('albert-base-v1’)\n",
    "\n",
    "# text = \"3.2.1: let's get started!\"\n",
    "\n",
    "# print(tokenizer.backend_tokenizer.pre_tokenizer.pre_tokenize_str(text))\n",
    "\n",
    "\n",
    "# Ces lignes donnent une erreur du type ImportError: cannot import name 'AutoTokenizerFast' from 'transformers'  due à la version utilisé\n",
    "# Version corrigés dans la cellule suivante"
   ]
  },
  {
   "cell_type": "code",
   "execution_count": null,
   "id": "533209b4",
   "metadata": {
    "id": "u4gqeVoI2e4E"
   },
   "outputs": [],
   "source": [
    "from transformers import AutoTokenizer\n",
    "\n",
    "tokenizer = AutoTokenizer.from_pretrained('albert-base-v1')\n",
    "\n",
    "text = \"3.2.1: let's get started!\"\n",
    "tokens = tokenizer.tokenize(text)\n"
   ]
  }
 ],
 "metadata": {},
 "nbformat": 4,
 "nbformat_minor": 5
}
