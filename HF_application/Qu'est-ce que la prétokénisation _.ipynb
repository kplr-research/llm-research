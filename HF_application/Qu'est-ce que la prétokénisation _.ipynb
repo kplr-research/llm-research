{
 "cells": [
  {
   "cell_type": "markdown",
   "id": "51cb4172",
   "metadata": {
    "id": "elDeVcAvYNoG"
   },
   "source": [
    "## Qu'est ce que la normalisation ?"
   ]
  },
  {
   "cell_type": "code",
   "execution_count": null,
   "id": "eeb6434e",
   "metadata": {
    "id": "6NAKTywSJP5l"
   },
   "outputs": [],
   "source": [
    "from transformers import AutoTokenizer\n",
    "\n",
    "text = \"This is a text with àccënts and CAPITAL LETTERS\"\n",
    "\n",
    "tokenizer = AutoTokenizer.from_pretrained(\"albert-large-v2\")\n",
    "print(tokenizer.convert_ids_to_tokens(tokenizer.encode(text)))\n",
    "\n",
    "tokenizer = AutoTokenizer.from_pretrained(\"huggingface-course/albert-tokenizer-without-normalizer\")\n",
    "print(tokenizer.convert_ids_to_tokens(tokenizer.encode(text)))"
   ]
  },
  {
   "cell_type": "code",
   "execution_count": null,
   "id": "ad462fce",
   "metadata": {
    "id": "EtcAsqyBJP5l"
   },
   "outputs": [],
   "source": [
    "text = \"un père indigné\"\n",
    "\n",
    "tokenizer = AutoTokenizerFast.from_pretrained('distilbert-base-uncased')\n",
    "print(tokenizer.backend_tokenizer.normalizer.normalize_str(text))"
   ]
  }
 ],
 "metadata": {},
 "nbformat": 4,
 "nbformat_minor": 5
}
