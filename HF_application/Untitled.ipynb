{
 "cells": [
  {
   "cell_type": "markdown",
   "id": "b6a186de",
   "metadata": {
    "id": "f40mLjZKc0NW"
   },
   "source": [
    "## Comment déboguer le pipeline d'entraînement? (PyTorch)"
   ]
  },
  {
   "cell_type": "code",
   "execution_count": null,
   "id": "efee2a46",
   "metadata": {
    "id": "T42LzMHoc4yp"
   },
   "outputs": [],
   "source": []
  }
 ],
 "metadata": {},
 "nbformat": 4,
 "nbformat_minor": 5
}
