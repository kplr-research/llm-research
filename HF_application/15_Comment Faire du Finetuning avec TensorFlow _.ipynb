{
 "cells": [
  {
   "cell_type": "markdown",
   "id": "99aa82d1",
   "metadata": {
    "id": "g1zIqvnyTCsP"
   },
   "source": [
    "## Qu'est ce qu'un objet modèle Keras ?"
   ]
  },
  {
   "cell_type": "code",
   "execution_count": null,
   "id": "e57d9fb6",
   "metadata": {
    "id": "CXFflSDZTHXA"
   },
   "outputs": [],
   "source": []
  }
 ],
 "metadata": {},
 "nbformat": 4,
 "nbformat_minor": 5
}
